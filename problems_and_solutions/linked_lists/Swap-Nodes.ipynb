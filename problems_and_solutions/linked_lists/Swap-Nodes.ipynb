{
 "cells": [
  {
   "cell_type": "markdown",
   "metadata": {
    "graffitiCellId": "id_wwy91p2"
   },
   "source": [
    "## Problem Statement\n",
    "\n",
    "Given a linked list, swap the two nodes present at position `i` and `j`, assuming `0 <= i <= j`. The positions are based on 0-based indexing.\n",
    "\n",
    "**Note:** You have to swap the nodes and not just the values. \n",
    "\n",
    "**Example:**\n",
    "* `linked_list = 3 4 5 2 6 1 9`\n",
    "* `positions = 2 5`\n",
    "* `output = 3 4 1 2 6 5 9`\n",
    "\n",
    "**Explanation:** \n",
    "* The node at position 3 has the value `2`\n",
    "* The node at position 4 has the value `6`\n",
    "* Swapping these nodes will result in a final order of nodes of `3 4 5 6 2 1 9`"
   ]
  },
  {
   "cell_type": "markdown",
   "metadata": {
    "graffitiCellId": "id_lqtx3fk"
   },
   "source": [
    "### Let's take an example to understand a simple approach - \n",
    "Given linked list = [3, 4, 5, 2, 6, 1, 9] <br>\n",
    "position_one = 2<br>\n",
    "position_two = 5<br>\n",
    "**Note the original order of indexes - 0, 1, 2, 3, 4, 5, 6**<br>\n",
    "\n",
    "**Step 1** - Identify the two nodes to be swapped. Also, identify the previous of both the two nodes. \n",
    "\n",
    "<img style=\"float: center;\" src=\"assets/Step0.png\"><br>\n",
    "**Step 2** - Swap the references making use of a temporary reference\n",
    "<img style=\"float: center;\" src=\"assets/Step1.png\"><br>\n",
    "<img style=\"float: center;\" src=\"assets/Step2.png\"><br>\n",
    "<img style=\"float: center;\" src=\"assets/Step3.png\"><br>\n",
    "<img style=\"float: center;\" src=\"assets/Step4.png\"><br>\n",
    "<img style=\"float: center;\" src=\"assets/Step5.png\"><br>\n",
    "<img style=\"float: center;\" src=\"assets/Step6.png\"><br>\n",
    "**Check the order of the updated indexes as - 0, 1, 5, 3, 4, 2, 6**, which implies that index 2 and index 5 have been swapped. \n"
   ]
  },
  {
   "cell_type": "markdown",
   "metadata": {
    "graffitiCellId": "id_2o4s6ai"
   },
   "source": [
    "### Helper Class"
   ]
  },
  {
   "cell_type": "code",
   "execution_count": 1,
   "metadata": {
    "graffitiCellId": "id_s77kdg7"
   },
   "outputs": [],
   "source": [
    "class Node:\n",
    "    \"\"\"LinkedListNode class to be used for this problem\"\"\"\n",
    "    def __init__(self, data):\n",
    "        self.data = data\n",
    "        self.next = None"
   ]
  },
  {
   "cell_type": "markdown",
   "metadata": {
    "graffitiCellId": "id_ker6u05"
   },
   "source": [
    "### Exercise - Write the function definition here"
   ]
  },
  {
   "cell_type": "code",
   "execution_count": 183,
   "metadata": {
    "graffitiCellId": "id_c4tesrj"
   },
   "outputs": [],
   "source": [
    "\"\"\"\n",
    ":param: head- head of input linked list\n",
    ":param: `position_one` - indicates position (index) ONE\n",
    ":param: `position_two` - indicates position (index) TWO\n",
    "return: head of updated linked list with nodes swapped\n",
    "\n",
    "TODO: complete this function and swap nodes present at position_one and position_two\n",
    "Do not create a new linked list\n",
    "\"\"\"\n",
    "def swap_nodes(head, left_index, right_index):\n",
    "    \n",
    "    node=head\n",
    "    previous=None\n",
    "    left_,right_=0,0\n",
    "    current_1,current_2 = None,None    \n",
    "    \n",
    "    while node:\n",
    "        \n",
    "        if left_ == left_index:\n",
    "           \n",
    "            current_1 = node\n",
    "            previous_current_1 = previous\n",
    "            next_current_1 = node.next\n",
    "       \n",
    "        if right_ == right_index:\n",
    "            \n",
    "            current_2 = node\n",
    "            previous_current_2 = previous\n",
    "            next_current_2 = node.next\n",
    "      \n",
    "        if current_1 and current_2:\n",
    "            \n",
    "            if left_index+1 == right_index:\n",
    "                \n",
    "                current_1.next= next_current_2\n",
    "               \n",
    "                current_2.next = current_1\n",
    "               \n",
    "                if previous_current_1:\n",
    "                   \n",
    "                    previous_current_1.next=current_2\n",
    "                  \n",
    "                else:\n",
    "                    head = current_2\n",
    "            else:                \n",
    "               \n",
    "                current_1.next= next_current_2\n",
    "                current_2.next = next_current_1\n",
    "                previous_current_2.next=current_1\n",
    "                if not previous_current_1:\n",
    "                    head = current_2\n",
    "                else:\n",
    "                    previous_current_1.next = current_2\n",
    "        \n",
    "            return head\n",
    "        \n",
    "      \n",
    "        left_ +=1\n",
    "        right_ +=1\n",
    "        previous = node\n",
    "        node = node.next\n",
    "    print(head.data)\n",
    "    return head\n",
    "    "
   ]
  },
  {
   "cell_type": "markdown",
   "metadata": {
    "graffitiCellId": "id_cek9joh"
   },
   "source": [
    "<span class=\"graffiti-highlight graffiti-id_cek9joh-id_kqbupgc\"><i></i><button>Show Solution</button></span>"
   ]
  },
  {
   "cell_type": "markdown",
   "metadata": {
    "graffitiCellId": "id_j94rzl9"
   },
   "source": [
    "### Test - Let's test your function"
   ]
  },
  {
   "cell_type": "code",
   "execution_count": 184,
   "metadata": {
    "graffitiCellId": "id_lzqbwc8"
   },
   "outputs": [],
   "source": [
    "def test_function(test_case):\n",
    "    head = test_case[0]\n",
    "    left_index = test_case[1]\n",
    "    right_index = test_case[2]\n",
    "    \n",
    "    left_node = None\n",
    "    right_node = None\n",
    "    \n",
    "    temp = head\n",
    "    index = 0\n",
    "    try:\n",
    "        while temp is not None:\n",
    "            if index == left_index:\n",
    "                left_node = temp\n",
    "            if index == right_index:\n",
    "                right_node = temp\n",
    "                break\n",
    "            index += 1\n",
    "            temp = temp.next\n",
    "\n",
    "        updated_head = swap_nodes(head, left_index, right_index)\n",
    "\n",
    "        temp = updated_head\n",
    "        index = 0\n",
    "        pass_status = [False, False]\n",
    "\n",
    "        while temp is not None:\n",
    "            if index == left_index:\n",
    "                pass_status[0] = temp is right_node\n",
    "            if index == right_index:\n",
    "                pass_status[1] = temp is left_node\n",
    "\n",
    "            index += 1\n",
    "            temp = temp.next\n",
    "\n",
    "        if pass_status[0] and pass_status[1]:\n",
    "            print(\"Pass\")\n",
    "        else:\n",
    "            print(\"Fail\")\n",
    "        return updated_head\n",
    "    except Exception as e:\n",
    "        print(\"Fail\")"
   ]
  },
  {
   "cell_type": "code",
   "execution_count": 185,
   "metadata": {
    "graffitiCellId": "id_dmn7hpj"
   },
   "outputs": [],
   "source": [
    "# helper functions for testing purpose\n",
    "def create_linked_list(arr):\n",
    "    if len(arr)==0:\n",
    "        return None\n",
    "    head = Node(arr[0])\n",
    "    tail = head\n",
    "    for data in arr[1:]:\n",
    "        tail.next = Node(data)\n",
    "        tail = tail.next\n",
    "    return head\n",
    "\n",
    "def print_linked_list(head):\n",
    "    while head:\n",
    "        print(head.data, end=\" \")\n",
    "        head = head.next\n",
    "    print()"
   ]
  },
  {
   "cell_type": "code",
   "execution_count": 186,
   "metadata": {
    "graffitiCellId": "id_vf3gh3b"
   },
   "outputs": [
    {
     "name": "stdout",
     "output_type": "stream",
     "text": [
      "Pass\n"
     ]
    }
   ],
   "source": [
    "arr = [3, 4, 5, 2, 6, 1, 9]\n",
    "head = create_linked_list(arr)\n",
    "left_index = 3\n",
    "right_index = 4\n",
    "\n",
    "test_case = [head, left_index, right_index]\n",
    "updated_head = test_function(test_case)"
   ]
  },
  {
   "cell_type": "code",
   "execution_count": 187,
   "metadata": {
    "graffitiCellId": "id_hmw9ljb"
   },
   "outputs": [
    {
     "name": "stdout",
     "output_type": "stream",
     "text": [
      "Pass\n"
     ]
    }
   ],
   "source": [
    "arr = [3, 4, 5, 2, 6, 1, 9]\n",
    "left_index = 2 \n",
    "right_index = 4\n",
    "head = create_linked_list(arr)\n",
    "test_case = [head, left_index, right_index]\n",
    "updated_head = test_function(test_case)"
   ]
  },
  {
   "cell_type": "code",
   "execution_count": 188,
   "metadata": {
    "graffitiCellId": "id_vekfhar"
   },
   "outputs": [
    {
     "name": "stdout",
     "output_type": "stream",
     "text": [
      "Pass\n"
     ]
    }
   ],
   "source": [
    "arr = [3, 4, 5, 2, 6, 1, 9]\n",
    "left_index = 0\n",
    "right_index = 1\n",
    "head = create_linked_list(arr)\n",
    "test_case = [head, left_index, right_index]\n",
    "updated_head = test_function(test_case)"
   ]
  },
  {
   "cell_type": "code",
   "execution_count": 195,
   "metadata": {
    "graffitiCellId": "id_vzdrnx2"
   },
   "outputs": [
    {
     "name": "stdout",
     "output_type": "stream",
     "text": [
      "Pass\n",
      "5\n",
      "4\n",
      "3\n",
      "2\n",
      "6\n",
      "1\n",
      "9\n"
     ]
    }
   ],
   "source": [
    "arr = [3, 4, 5, 2, 6, 1, 9]\n",
    "left_index = 0\n",
    "right_index = 2\n",
    "head = create_linked_list(arr)\n",
    "test_case = [head, left_index, right_index]\n",
    "updated_head = test_function(test_case)\n",
    "node=updated_head\n",
    "while(node):\n",
    "    print(node.data)\n",
    "    node=node.next"
   ]
  }
 ],
 "metadata": {
  "graffiti": {
   "firstAuthorId": "dev",
   "id": "id_cuns29g",
   "language": "EN"
  },
  "kernelspec": {
   "display_name": "Python 3",
   "language": "python",
   "name": "python3"
  },
  "language_info": {
   "codemirror_mode": {
    "name": "ipython",
    "version": 3
   },
   "file_extension": ".py",
   "mimetype": "text/x-python",
   "name": "python",
   "nbconvert_exporter": "python",
   "pygments_lexer": "ipython3",
   "version": "3.6.3"
  }
 },
 "nbformat": 4,
 "nbformat_minor": 2
}
