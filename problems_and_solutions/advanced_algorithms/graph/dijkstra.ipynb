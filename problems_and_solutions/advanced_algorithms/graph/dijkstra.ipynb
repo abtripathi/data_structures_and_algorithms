{
 "cells": [
  {
   "cell_type": "markdown",
   "metadata": {
    "graffitiCellId": "id_0ojz955"
   },
   "source": [
    "# Dijkstra's Algorithm\n",
    "In the \"Greedy Algorithms\" lesson, we implemented the **Dijkstra's Algorithm** to find the distance of each node from the given source node. In this exercise, you'll implement the same **Dijkstra's algorithm to find the length of the shortest path between a given pair of nodes,** but this time we will have a better time complexity. First, let's build the graph.\n",
    "\n",
    "## Graph Representation\n",
    "In order to run Dijkstra's Algorithm, we'll need to add distance to each edge. We'll use the `GraphEdge` class below to represent each edge between a pair of nodes. You are free to create your own implementation of an undirected graph. "
   ]
  },
  {
   "cell_type": "code",
   "execution_count": 1,
   "metadata": {
    "graffitiCellId": "id_popacit"
   },
   "outputs": [],
   "source": [
    "# Helper Class\n",
    "class GraphEdge(object):\n",
    "    def __init__(self, destinationNode, distance):\n",
    "        self.node = destinationNode\n",
    "        self.distance = distance"
   ]
  },
  {
   "cell_type": "markdown",
   "metadata": {
    "graffitiCellId": "id_ljgv5p0"
   },
   "source": [
    "The new graph representation should look like this:"
   ]
  },
  {
   "cell_type": "code",
   "execution_count": 2,
   "metadata": {
    "graffitiCellId": "id_llarxxs"
   },
   "outputs": [],
   "source": [
    "# Helper Classes\n",
    "class GraphNode(object):\n",
    "    def __init__(self, val):\n",
    "        self.value = val\n",
    "        self.edges = []\n",
    "\n",
    "    def add_child(self, node, distance):\n",
    "        self.edges.append(GraphEdge(node, distance))\n",
    "\n",
    "    def remove_child(self, del_node):\n",
    "        print(len(self.edges))\n",
    "        print(del_node)\n",
    "        del_node in self.edges\n",
    "        if del_node in self.edges:            \n",
    "            print(\"inside\")\n",
    "            self.edges.remove(del_node)\n",
    "\n",
    "class Graph(object):\n",
    "    def __init__(self, node_list):\n",
    "        self.nodes = node_list\n",
    "\n",
    "    # adds an edge between node1 and node2 in both directions\n",
    "    def add_edge(self, node1, node2, distance):\n",
    "        if node1 in self.nodes and node2 in self.nodes:\n",
    "            node1.add_child(node2, distance)\n",
    "            node2.add_child(node1, distance)\n",
    "\n",
    "    def remove_edge(self, node1, node2):\n",
    "        if node1 in self.nodes and node2 in self.nodes:\n",
    "            node1.remove_child(node2)\n",
    "            node2.remove_child(node1)\n",
    "            \n",
    "    def print_graph(self):\n",
    "        for node in self.nodes:\n",
    "            print(\"Parent Node \" , node.value)\n",
    "            print(\"children\")\n",
    "            for child in node.edges:\n",
    "                print(child.node.value,child.distance,end=' ')\n",
    "            print('\\n')\n",
    "                "
   ]
  },
  {
   "cell_type": "code",
   "execution_count": 3,
   "metadata": {
    "graffitiCellId": "id_uryz0es"
   },
   "outputs": [
    {
     "name": "stdout",
     "output_type": "stream",
     "text": [
      "Parent Node  U\n",
      "children\n",
      "A 4 C 6 D 3 \n",
      "\n",
      "Parent Node  D\n",
      "children\n",
      "U 3 C 4 \n",
      "\n",
      "Parent Node  A\n",
      "children\n",
      "U 4 I 7 \n",
      "\n",
      "Parent Node  C\n",
      "children\n",
      "U 6 D 4 I 4 T 5 \n",
      "\n",
      "Parent Node  I\n",
      "children\n",
      "A 7 C 4 Y 4 \n",
      "\n",
      "Parent Node  T\n",
      "children\n",
      "C 5 Y 5 \n",
      "\n",
      "Parent Node  Y\n",
      "children\n",
      "I 4 T 5 \n",
      "\n"
     ]
    }
   ],
   "source": [
    "# Create a graph\n",
    "node_u = GraphNode('U')\n",
    "node_d = GraphNode('D')\n",
    "node_a = GraphNode('A')\n",
    "node_c = GraphNode('C')\n",
    "node_i = GraphNode('I')\n",
    "node_t = GraphNode('T')\n",
    "node_y = GraphNode('Y')\n",
    "\n",
    "graph = Graph([node_u, node_d, node_a, node_c, node_i, node_t, node_y])\n",
    "\n",
    "# add_edge() function will add an edge between node1 and node2 in both directions\n",
    "graph.add_edge(node_u, node_a, 4)\n",
    "graph.add_edge(node_u, node_c, 6)\n",
    "graph.add_edge(node_u, node_d, 3)\n",
    "graph.add_edge(node_d, node_c, 4)\n",
    "graph.add_edge(node_a, node_i, 7)\n",
    "graph.add_edge(node_c, node_i, 4)\n",
    "graph.add_edge(node_c, node_t, 5)\n",
    "graph.add_edge(node_i, node_y, 4)\n",
    "graph.add_edge(node_t, node_y, 5)\n",
    "graph.print_graph()"
   ]
  },
  {
   "cell_type": "code",
   "execution_count": null,
   "metadata": {
    "graffitiCellId": "id_99c8bcy"
   },
   "outputs": [],
   "source": [
    "graph.remove_edge(node_u,node_a)"
   ]
  },
  {
   "cell_type": "code",
   "execution_count": null,
   "metadata": {
    "graffitiCellId": "id_9rqglr4"
   },
   "outputs": [],
   "source": [
    "graph.print_graph()"
   ]
  },
  {
   "cell_type": "markdown",
   "metadata": {
    "graffitiCellId": "id_v79ttrc"
   },
   "source": [
    "### Exercise - Write the function definition here\n",
    "Using what you've learned, implement Dijkstra's Algorithm "
   ]
  },
  {
   "cell_type": "code",
   "execution_count": null,
   "metadata": {
    "graffitiCellId": "id_zx9fvl9"
   },
   "outputs": [],
   "source": [
    "import math\n",
    "\n",
    "\n",
    "def dijkstra(graph,start_node,end_node):\n",
    "    \n",
    "    a = [(edge.node,edge.distance) for edge in start_node.edges]       \n",
    "    b = [(node,math.inf) for node in graph.nodes if (node != start_node and node not in [edge.node for edge in start_node.edges])]\n",
    "    \n",
    "    distances = dict([(start_node,0)]+a+b)\n",
    "    result = dict([(start_node,0)]+a+b)\n",
    "    print(distances)\n",
    "    \n",
    "    while True:        \n",
    "        min_node = min(distances,key = lambda x:distances[x])        \n",
    "        \n",
    "        if min_node == end_node:\n",
    "            return result[min_node]        \n",
    "       \n",
    "        if distances[min_node] == math.inf:\n",
    "            return math.inf\n",
    "        \n",
    "        for edge in min_node.edges:\n",
    "            if edge.node in distances:                \n",
    "                if distances[min_node]+edge.distance < distances[edge.node]:\n",
    "                    distances[edge.node] = distances[min_node]+edge.distance\n",
    "                    result[edge.node] = result[min_node]+edge.distance\n",
    "                \n",
    "        del distances[min_node]\n",
    "    \n",
    "  \n",
    "        \n",
    "      "
   ]
  },
  {
   "cell_type": "code",
   "execution_count": null,
   "metadata": {
    "graffitiCellId": "id_wmubg9r"
   },
   "outputs": [],
   "source": [
    "## My solution during revision\n",
    "\n",
    "\n",
    "def dijkstra(graph,start_node,end_node):\n",
    "    \n",
    "    distances_dict = {node:0 if node==start_node else float('inf') for node in graph.nodes}\n",
    "    result ={}\n",
    "    \n",
    "    while len(distances_dict) > 0:\n",
    "        minimum_node = min(distances_dict,key=distances_dict.get)\n",
    "        minimum_distance = distances_dict[minimum_node]\n",
    "        del distances_dict[minimum_node]\n",
    "        \n",
    "        for neighbour in minimum_node.edges:\n",
    "            new_distance = minimum_distance+neighbour.distance            \n",
    "            if neighbour.node in distances_dict and new_distance < distances_dict[neighbour.node]:\n",
    "                distances_dict[neighbour.node] = new_distance\n",
    "                \n",
    "        result[minimum_node] = minimum_distance\n",
    "        \n",
    "    return result[end_node]    \n",
    "    \n",
    "        \n",
    "    \n",
    "    "
   ]
  },
  {
   "cell_type": "code",
   "execution_count": null,
   "metadata": {
    "graffitiCellId": "id_ofjwoze"
   },
   "outputs": [],
   "source": [
    "\n",
    "def dijkstra(graph,start_node,end_node):\n",
    "    result ={}\n",
    "    distances_dict = {node:0 if node==start_node else float('inf') for node in graph.nodes}\n",
    "    while len(distances_dict) > 0:\n",
    "        minimum_node = min(distances_dict,key=distances_dict.get) \n",
    "        min_distance = distances_dict[minimum_node]\n",
    "        del distances_dict[minimum_node]\n",
    "        result[minimum_node] = min_distance\n",
    "        for neighbour in minimum_node.edges:\n",
    "            new_distance = min_distance+neighbour.distance\n",
    "            if neighbour.node in distances_dict and new_distance < distances_dict[neighbour.node]:\n",
    "                distances_dict[neighbour.node] = new_distance\n",
    "    \n",
    "    return result[end_node]    \n",
    "          \n",
    "         \n",
    "    "
   ]
  },
  {
   "cell_type": "code",
   "execution_count": null,
   "metadata": {
    "graffitiCellId": "id_rpteikj"
   },
   "outputs": [],
   "source": [
    "distances={'U': 0, 'A': 4, 'C': 6, 'D': 3, 'I': math.inf, 'T': math.inf, 'Y': math.inf}\n",
    "min(distances,key = lambda x:distances[x])"
   ]
  },
  {
   "cell_type": "code",
   "execution_count": null,
   "metadata": {
    "graffitiCellId": "id_p6hv24i"
   },
   "outputs": [],
   "source": [
    "hh={1:1,2:2,3:3}\n",
    "v= hh.items()\n",
    "v"
   ]
  },
  {
   "cell_type": "markdown",
   "metadata": {
    "graffitiCellId": "id_6vmf0hp"
   },
   "source": [
    "<span class=\"graffiti-highlight graffiti-id_6vmf0hp-id_cjtybve\"><i></i><button>Show Solution</button></span>"
   ]
  },
  {
   "cell_type": "markdown",
   "metadata": {
    "graffitiCellId": "id_x2fp6ip"
   },
   "source": [
    "### Test - Let's test your function"
   ]
  },
  {
   "cell_type": "code",
   "execution_count": null,
   "metadata": {
    "graffitiCellId": "id_9zgbdrn"
   },
   "outputs": [],
   "source": [
    "# Test Case 1:\n",
    "\n",
    "# Create a graph\n",
    "node_u = GraphNode('U')\n",
    "node_d = GraphNode('D')\n",
    "node_a = GraphNode('A')\n",
    "node_c = GraphNode('C')\n",
    "node_i = GraphNode('I')\n",
    "node_t = GraphNode('T')\n",
    "node_y = GraphNode('Y')\n",
    "\n",
    "graph = Graph([node_u, node_d, node_a, node_c, node_i, node_t, node_y])\n",
    "\n",
    "# add_edge() function will add an edge between node1 and node2 in both directions\n",
    "graph.add_edge(node_u, node_a, 4)\n",
    "graph.add_edge(node_u, node_c, 6)\n",
    "graph.add_edge(node_u, node_d, 3)\n",
    "graph.add_edge(node_d, node_c, 4)\n",
    "graph.add_edge(node_a, node_i, 7)\n",
    "graph.add_edge(node_c, node_i, 4)\n",
    "graph.add_edge(node_c, node_t, 5)\n",
    "graph.add_edge(node_i, node_y, 4)\n",
    "graph.add_edge(node_t, node_y, 5)\n",
    "\n",
    "# Shortest Distance from U to Y is 14\n",
    "print('Shortest Distance from {} to {} is {}'.format(node_u.value, node_y.value, dijkstra(graph, node_u, node_y)))"
   ]
  },
  {
   "cell_type": "code",
   "execution_count": null,
   "metadata": {
    "graffitiCellId": "id_11lz0ci"
   },
   "outputs": [],
   "source": [
    "# Test Case 2\n",
    "node_A = GraphNode('A')\n",
    "node_B = GraphNode('B')\n",
    "node_C = GraphNode('C')\n",
    "\n",
    "graph = Graph([node_A, node_B, node_C])\n",
    "\n",
    "graph.add_edge(node_A, node_B, 5)\n",
    "graph.add_edge(node_B, node_C, 5)\n",
    "graph.add_edge(node_A, node_C, 10)\n",
    "\n",
    "# Shortest Distance from A to C is 10\n",
    "print('Shortest Distance from {} to {} is {}'.format(node_A.value, node_C.value, dijkstra(graph, node_A, node_C)))"
   ]
  },
  {
   "cell_type": "code",
   "execution_count": null,
   "metadata": {
    "graffitiCellId": "id_mkizk04"
   },
   "outputs": [],
   "source": [
    "# Test Case 3\n",
    "node_A = GraphNode('A')\n",
    "node_B = GraphNode('B')\n",
    "node_C = GraphNode('C')\n",
    "node_D = GraphNode('D')\n",
    "node_E = GraphNode('E')\n",
    "\n",
    "graph = Graph([node_A, node_B, node_C, node_D, node_E])\n",
    "\n",
    "graph.add_edge(node_A, node_B, 3)\n",
    "graph.add_edge(node_A, node_D, 2)\n",
    "graph.add_edge(node_B, node_D, 4)\n",
    "graph.add_edge(node_B, node_E, 6)\n",
    "graph.add_edge(node_B, node_C, 1)\n",
    "graph.add_edge(node_C, node_E, 2)\n",
    "graph.add_edge(node_E, node_D, 1)\n",
    "\n",
    "# Shortest Distance from A to C is 4\n",
    "print('Shortest Distance from {} to {} is {}'.format(node_A.value, node_C.value, dijkstra(graph, node_A, node_C)))"
   ]
  },
  {
   "cell_type": "code",
   "execution_count": null,
   "metadata": {
    "graffitiCellId": "id_w6zdz7p"
   },
   "outputs": [],
   "source": []
  }
 ],
 "metadata": {
  "graffiti": {
   "firstAuthorId": "dev",
   "id": "id_xw4if85",
   "language": "EN"
  },
  "kernelspec": {
   "display_name": "Python 3",
   "language": "python",
   "name": "python3"
  },
  "language_info": {
   "codemirror_mode": {
    "name": "ipython",
    "version": 3
   },
   "file_extension": ".py",
   "mimetype": "text/x-python",
   "name": "python",
   "nbconvert_exporter": "python",
   "pygments_lexer": "ipython3",
   "version": "3.6.3"
  }
 },
 "nbformat": 4,
 "nbformat_minor": 2
}
