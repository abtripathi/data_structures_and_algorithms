{
 "cells": [
  {
   "cell_type": "markdown",
   "metadata": {
    "graffitiCellId": "id_pxg59hb"
   },
   "source": [
    "# Coin Change\n",
    "\n",
    "You are given coins of different denominations and a total amount of money. Write a function to compute the fewest coins needed to make up that amount. If that amount of money cannot be made up by any combination of the coins, return `-1`.\n",
    "\n",
    "As an example:\n",
    "* Input: `coins = [1, 2, 3]`, `amount = 6`\n",
    "* Output: `2`\n",
    "* Explanation: The output is `2` because we can use `2` coins with value `3`. That is, `6 = 3 + 3`. We could also use `3` coins with value `2` (that is, `6 = 2 + 2 + 2`), but this would use more coins—and the problem specifies we should use the smallest number of coins possible.\n",
    "\n",
    "There's test code below that you can use to check your solution. And at the bottom of the notebook, you'll find two different possible solutions."
   ]
  },
  {
   "cell_type": "code",
   "execution_count": 1,
   "metadata": {
    "graffitiCellId": "id_n12iz5t"
   },
   "outputs": [],
   "source": [
    "def coin_change(coins, amount):\n",
    "\n",
    "    # TODO: Complete the coin_change function\n",
    "    # This should return one value: the fewest coins needed to make up the given amount\n",
    "    lookup_table = [float('inf')]*(amount+1)\n",
    "    \n",
    "    for coin in coins:\n",
    "        for index in range(coin,amount+1):            \n",
    "            if index == coin:\n",
    "                lookup_table[index] = 1\n",
    "            else:\n",
    "                if lookup_table[index-coin] !=float('inf') and 1+lookup_table[index-coin] < lookup_table[index]:               \n",
    "                    lookup_table[index] = 1+lookup_table[index-coin]\n",
    "    print(lookup_table)       \n",
    "    return lookup_table[amount] if lookup_table[amount] !=float('inf') else -1\n",
    "                \n",
    "                \n",
    "            \n",
    " \n"
   ]
  },
  {
   "cell_type": "code",
   "execution_count": 38,
   "metadata": {
    "graffitiCellId": "id_4keydyr"
   },
   "outputs": [],
   "source": [
    "def coin_change_second(coins, amount):\n",
    "    \n",
    "    memo = {}\n",
    "    \n",
    "    def recursive(amount):\n",
    "        if amount == 0:\n",
    "            return 0\n",
    "        if amount < 0:\n",
    "            return float('inf')\n",
    "        \n",
    "        if amount not in memo:\n",
    "            memo[amount]= min([recursive(amount-c) for c in coins])+1\n",
    "          \n",
    "        return memo[amount]\n",
    "        \n",
    "    result = recursive(amount)\n",
    "    return result if result !=float('inf') else -1\n",
    "    \n",
    "   \n",
    "        \n",
    "   "
   ]
  },
  {
   "cell_type": "code",
   "execution_count": 39,
   "metadata": {
    "graffitiCellId": "id_1n9z26f"
   },
   "outputs": [
    {
     "data": {
      "text/plain": [
       "3"
      ]
     },
     "execution_count": 39,
     "metadata": {},
     "output_type": "execute_result"
    }
   ],
   "source": [
    "coin_change_second([1,4,5],12)"
   ]
  },
  {
   "cell_type": "code",
   "execution_count": 3,
   "metadata": {},
   "outputs": [],
   "source": [
    "def coin_change_third(coins, amount):\n",
    "    \n",
    "    \n",
    "    def recursive(coins,index,amount):\n",
    "       \n",
    "        if index < 0:\n",
    "            return -1\n",
    "        if coins[index]==amount:\n",
    "            return 1\n",
    "        if coins[index] > amount:\n",
    "            return recursive(coins,index-1,amount)\n",
    "                  \n",
    "        if amount-coins[index] < coins[index] and amount-coins[index] not in coins[:index]:\n",
    "            result = recursive(coins,index-1,amount)-1\n",
    "        else:            \n",
    "            #result = recursive(coins,index-1,amount)\n",
    "            result = recursive(coins,index,amount-coins[index])\n",
    "        \n",
    "        return result  if result==-1 else (1+result)            \n",
    "    \n",
    "    return recursive(coins,len(coins)-1,amount)\n",
    "        "
   ]
  },
  {
   "cell_type": "code",
   "execution_count": 28,
   "metadata": {
    "graffitiCellId": "id_nw9jcas"
   },
   "outputs": [
    {
     "name": "stdout",
     "output_type": "stream",
     "text": [
      "[inf, inf, 1, 1, 2, 2, 2, 3, 3, 3, 4, 4, 4, 5, 5, 5, 6, 6, 6, 7, 7, 7, 8]\n"
     ]
    },
    {
     "data": {
      "text/plain": [
       "8"
      ]
     },
     "execution_count": 28,
     "metadata": {},
     "output_type": "execute_result"
    }
   ],
   "source": [
    "coin_change([2,3],22)"
   ]
  },
  {
   "cell_type": "code",
   "execution_count": 4,
   "metadata": {
    "graffitiCellId": "id_g1vpolv"
   },
   "outputs": [],
   "source": [
    "def test_function(test_case):\n",
    "    arr = test_case[0]\n",
    "    amount = test_case[1]\n",
    "    solution = test_case[2]\n",
    "    output = coin_change(arr, amount)\n",
    "    if output == solution:\n",
    "        print(\"Pass\")\n",
    "    else:\n",
    "        print(\"Fail\")"
   ]
  },
  {
   "cell_type": "code",
   "execution_count": 5,
   "metadata": {
    "graffitiCellId": "id_cqdyyun"
   },
   "outputs": [
    {
     "name": "stdout",
     "output_type": "stream",
     "text": [
      "[inf, 1, 1, 2, 2, 1, 2, 2, 3, 3, 2, 3]\n",
      "Pass\n"
     ]
    }
   ],
   "source": [
    "arr = [1,2,5]\n",
    "amount = 11\n",
    "solution = 3\n",
    "test_case = [arr, amount, solution]\n",
    "test_function(test_case)"
   ]
  },
  {
   "cell_type": "code",
   "execution_count": 6,
   "metadata": {
    "graffitiCellId": "id_91p1cz0"
   },
   "outputs": [
    {
     "name": "stdout",
     "output_type": "stream",
     "text": [
      "[inf, 1, 2, 3, 1, 1, 1, 2, 2, 2, 2, 2, 2, 3, 3, 3, 3, 3, 3, 4, 4, 4, 4, 4]\n",
      "Pass\n"
     ]
    }
   ],
   "source": [
    "arr = [1,4,5,6]\n",
    "amount = 23\n",
    "solution = 4\n",
    "test_case = [arr, amount, solution]\n",
    "test_function(test_case)"
   ]
  },
  {
   "cell_type": "code",
   "execution_count": 7,
   "metadata": {
    "graffitiCellId": "id_mo17gzo"
   },
   "outputs": [
    {
     "name": "stdout",
     "output_type": "stream",
     "text": [
      "[inf, inf, inf]\n",
      "Pass\n"
     ]
    }
   ],
   "source": [
    "arr = [5,7,8]\n",
    "amount = 2\n",
    "solution = -1\n",
    "test_case = [arr, amount, solution]\n",
    "test_function(test_case)"
   ]
  },
  {
   "cell_type": "code",
   "execution_count": 8,
   "metadata": {
    "graffitiCellId": "id_wiydfm2"
   },
   "outputs": [],
   "source": [
    "def test_function_second(test_case):\n",
    "    arr = test_case[0]\n",
    "    amount = test_case[1]\n",
    "    solution = test_case[2]\n",
    "    output = coin_change_second(arr, amount)\n",
    "    if output == solution:\n",
    "        print(\"Pass\")\n",
    "    else:\n",
    "        print(\"Fail\")"
   ]
  },
  {
   "cell_type": "code",
   "execution_count": 9,
   "metadata": {
    "graffitiCellId": "id_3c6hk9b"
   },
   "outputs": [
    {
     "ename": "NameError",
     "evalue": "name 'coin_change_second' is not defined",
     "output_type": "error",
     "traceback": [
      "\u001b[0;31m---------------------------------------------------------------------------\u001b[0m",
      "\u001b[0;31mNameError\u001b[0m                                 Traceback (most recent call last)",
      "\u001b[0;32m<ipython-input-9-53eb9eb578f3>\u001b[0m in \u001b[0;36m<module>\u001b[0;34m()\u001b[0m\n\u001b[1;32m      3\u001b[0m \u001b[0msolution\u001b[0m \u001b[0;34m=\u001b[0m \u001b[0;36m3\u001b[0m\u001b[0;34m\u001b[0m\u001b[0m\n\u001b[1;32m      4\u001b[0m \u001b[0mtest_case\u001b[0m \u001b[0;34m=\u001b[0m \u001b[0;34m[\u001b[0m\u001b[0marr\u001b[0m\u001b[0;34m,\u001b[0m \u001b[0mamount\u001b[0m\u001b[0;34m,\u001b[0m \u001b[0msolution\u001b[0m\u001b[0;34m]\u001b[0m\u001b[0;34m\u001b[0m\u001b[0m\n\u001b[0;32m----> 5\u001b[0;31m \u001b[0mtest_function_second\u001b[0m\u001b[0;34m(\u001b[0m\u001b[0mtest_case\u001b[0m\u001b[0;34m)\u001b[0m\u001b[0;34m\u001b[0m\u001b[0m\n\u001b[0m",
      "\u001b[0;32m<ipython-input-8-2da894cdf33e>\u001b[0m in \u001b[0;36mtest_function_second\u001b[0;34m(test_case)\u001b[0m\n\u001b[1;32m      3\u001b[0m     \u001b[0mamount\u001b[0m \u001b[0;34m=\u001b[0m \u001b[0mtest_case\u001b[0m\u001b[0;34m[\u001b[0m\u001b[0;36m1\u001b[0m\u001b[0;34m]\u001b[0m\u001b[0;34m\u001b[0m\u001b[0m\n\u001b[1;32m      4\u001b[0m     \u001b[0msolution\u001b[0m \u001b[0;34m=\u001b[0m \u001b[0mtest_case\u001b[0m\u001b[0;34m[\u001b[0m\u001b[0;36m2\u001b[0m\u001b[0;34m]\u001b[0m\u001b[0;34m\u001b[0m\u001b[0m\n\u001b[0;32m----> 5\u001b[0;31m     \u001b[0moutput\u001b[0m \u001b[0;34m=\u001b[0m \u001b[0mcoin_change_second\u001b[0m\u001b[0;34m(\u001b[0m\u001b[0marr\u001b[0m\u001b[0;34m,\u001b[0m \u001b[0mamount\u001b[0m\u001b[0;34m)\u001b[0m\u001b[0;34m\u001b[0m\u001b[0m\n\u001b[0m\u001b[1;32m      6\u001b[0m     \u001b[0;32mif\u001b[0m \u001b[0moutput\u001b[0m \u001b[0;34m==\u001b[0m \u001b[0msolution\u001b[0m\u001b[0;34m:\u001b[0m\u001b[0;34m\u001b[0m\u001b[0m\n\u001b[1;32m      7\u001b[0m         \u001b[0mprint\u001b[0m\u001b[0;34m(\u001b[0m\u001b[0;34m\"Pass\"\u001b[0m\u001b[0;34m)\u001b[0m\u001b[0;34m\u001b[0m\u001b[0m\n",
      "\u001b[0;31mNameError\u001b[0m: name 'coin_change_second' is not defined"
     ]
    }
   ],
   "source": [
    "arr = [1,2,5]\n",
    "amount = 11\n",
    "solution = 3\n",
    "test_case = [arr, amount, solution]\n",
    "test_function_second(test_case)"
   ]
  },
  {
   "cell_type": "code",
   "execution_count": 196,
   "metadata": {
    "graffitiCellId": "id_67eksoe"
   },
   "outputs": [
    {
     "name": "stdout",
     "output_type": "stream",
     "text": [
      "Pass\n"
     ]
    }
   ],
   "source": [
    "arr = [1,4,5,6]\n",
    "amount = 23\n",
    "solution = 4\n",
    "test_case = [arr, amount, solution]\n",
    "test_function_second(test_case)"
   ]
  },
  {
   "cell_type": "code",
   "execution_count": 39,
   "metadata": {
    "graffitiCellId": "id_znufckj"
   },
   "outputs": [
    {
     "name": "stdout",
     "output_type": "stream",
     "text": [
      "Pass\n"
     ]
    }
   ],
   "source": [
    "arr = [5,7,8]\n",
    "amount = 2\n",
    "solution = -1\n",
    "test_case = [arr, amount, solution]\n",
    "test_function_second(test_case)"
   ]
  },
  {
   "cell_type": "code",
   "execution_count": 10,
   "metadata": {
    "graffitiCellId": "id_onbrm90"
   },
   "outputs": [],
   "source": [
    "def test_function_third(test_case):\n",
    "    arr = test_case[0]\n",
    "    amount = test_case[1]\n",
    "    solution = test_case[2]\n",
    "    output = coin_change_third(arr, amount)\n",
    "    if output == solution:\n",
    "        print(\"Pass\")\n",
    "    else:\n",
    "        print(\"Fail\")"
   ]
  },
  {
   "cell_type": "code",
   "execution_count": 11,
   "metadata": {
    "graffitiCellId": "id_lrkfzyx"
   },
   "outputs": [
    {
     "name": "stdout",
     "output_type": "stream",
     "text": [
      "Pass\n"
     ]
    }
   ],
   "source": [
    "arr = [1,2,5]\n",
    "amount = 11\n",
    "solution = 3\n",
    "test_case = [arr, amount, solution]\n",
    "test_function_third(test_case)"
   ]
  },
  {
   "cell_type": "code",
   "execution_count": 12,
   "metadata": {
    "graffitiCellId": "id_767lugl"
   },
   "outputs": [
    {
     "name": "stdout",
     "output_type": "stream",
     "text": [
      "Pass\n"
     ]
    }
   ],
   "source": [
    "arr = [1,4,5,6]\n",
    "amount = 23\n",
    "solution = 4\n",
    "test_case = [arr, amount, solution]\n",
    "test_function_third(test_case)"
   ]
  },
  {
   "cell_type": "code",
   "execution_count": 13,
   "metadata": {
    "graffitiCellId": "id_q555oqe"
   },
   "outputs": [
    {
     "name": "stdout",
     "output_type": "stream",
     "text": [
      "Pass\n"
     ]
    }
   ],
   "source": [
    "arr = [5,7,8]\n",
    "amount = 2\n",
    "solution = -1\n",
    "test_case = [arr, amount, solution]\n",
    "test_function_third(test_case)"
   ]
  },
  {
   "cell_type": "code",
   "execution_count": null,
   "metadata": {
    "graffitiCellId": "id_7jtn7kn"
   },
   "outputs": [],
   "source": []
  },
  {
   "cell_type": "markdown",
   "metadata": {
    "graffitiCellId": "id_jjdrdzm"
   },
   "source": [
    "## Solutions\n",
    "\n",
    "Let's look at two different solutions. Here's one way to do it...\n",
    "\n",
    "<span class=\"graffiti-highlight graffiti-id_jjdrdzm-id_fpk926y\"><i></i><button>Hide Solution One</button></span>"
   ]
  },
  {
   "cell_type": "code",
   "execution_count": null,
   "metadata": {
    "graffitiCellId": "id_fpk926y"
   },
   "outputs": [],
   "source": [
    "# Solution One\n",
    "\n",
    "# Let's assume F(Amount) is the minimum number of coins needed to make a change from coins [C0, C1, C2...Cn-1]\n",
    "# Then, we know that F(Amount) = min(F(Amount-C0), F(Amount-C1), F(Amount-C2)...F(Amount-Cn-1)) + 1\n",
    "\n",
    "# Base Cases: \n",
    "    # when Amount == 0: F(Amount) = 0\n",
    "    # when Amount < 0: F(Amount) =  float('inf')\n",
    "\n",
    "def coin_change(coins, amount):\n",
    "    # Create a memo that will storing the fewest coins with given amount\n",
    "    # that we have already calculated so that we do not have to do the\n",
    "    # calculation again.\n",
    "    memo = {}\n",
    "    \n",
    "    def return_change(remaining):\n",
    "        # Base cases\n",
    "        if remaining < 0:  return float('inf')\n",
    "        if remaining == 0: return 0 \n",
    "        \n",
    "        # Check if we have already calculated\n",
    "        if remaining not in memo:\n",
    "            # If not previously calculated, calculate it by calling return_change with the remaining amount\n",
    "            memo[remaining] = min(return_change(remaining - c) + 1 for c in coins)\n",
    "        return memo[remaining]\n",
    "    \n",
    "    res = return_change(amount)\n",
    "    \n",
    "    # return -1 when no change found\n",
    "    return -1 if res == float('inf') else res\n"
   ]
  },
  {
   "cell_type": "code",
   "execution_count": 48,
   "metadata": {
    "graffitiCellId": "id_zz2ul58"
   },
   "outputs": [],
   "source": [
    "b= [ i for i in range(1,4)]"
   ]
  },
  {
   "cell_type": "code",
   "execution_count": 49,
   "metadata": {
    "graffitiCellId": "id_waiuj1b"
   },
   "outputs": [
    {
     "data": {
      "text/plain": [
       "[1, 2, 3]"
      ]
     },
     "execution_count": 49,
     "metadata": {},
     "output_type": "execute_result"
    }
   ],
   "source": [
    "b"
   ]
  },
  {
   "cell_type": "markdown",
   "metadata": {
    "graffitiCellId": "id_om55y5v"
   },
   "source": [
    "And here's another possibility:\n",
    "\n",
    "<span class=\"graffiti-highlight graffiti-id_bmrwntc-id_9z3z0e0\"><i></i><button>Hide Solution Two</button></span>"
   ]
  },
  {
   "cell_type": "code",
   "execution_count": null,
   "metadata": {
    "graffitiCellId": "id_9z3z0e0"
   },
   "outputs": [],
   "source": [
    "# Solution Two\n",
    "\n",
    "# We initiate F[Amount] to be float('inf') and F[0] = 0\n",
    "# Let F[Amount] to be the minimum number of coins needed to get change for the Amount.\n",
    "# F[Amount + coin] = min(F(Amount + coin), F(Amount) + 1) if F[Amount] is reachable.\n",
    "# F[Amount + coin] = F(Amount + coin) if F[Amount] is not reachable.\n",
    "\n",
    "def coin_change(coins, amount):\n",
    "    # initiate the list with length amount + 1 and prefill with float('inf')\n",
    "    res = [float('inf')]*(amount + 1)\n",
    "    \n",
    "    # when amount = 0, 0 number of coins will be needed for the change\n",
    "    res[0] = 0\n",
    "    \n",
    "    i = 0\n",
    "    while (i < amount):\n",
    "        if res[i] != float('inf'):\n",
    "            for coin in coins:\n",
    "                if i <= amount - coin:\n",
    "                    res[i+coin] = min(res[i] + 1, res[i+coin])\n",
    "        i += 1\n",
    "\n",
    "    if res[amount] == float('inf'):\n",
    "        return -1\n",
    "    return res[amount]\n",
    "        \n"
   ]
  }
 ],
 "metadata": {
  "graffiti": {
   "firstAuthorId": "10694620118",
   "id": "id_0hxxyvu",
   "language": "EN"
  },
  "kernelspec": {
   "display_name": "Python 3",
   "language": "python",
   "name": "python3"
  },
  "language_info": {
   "codemirror_mode": {
    "name": "ipython",
    "version": 3
   },
   "file_extension": ".py",
   "mimetype": "text/x-python",
   "name": "python",
   "nbconvert_exporter": "python",
   "pygments_lexer": "ipython3",
   "version": "3.6.3"
  }
 },
 "nbformat": 4,
 "nbformat_minor": 2
}
