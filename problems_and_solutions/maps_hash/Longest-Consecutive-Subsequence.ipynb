{
 "cells": [
  {
   "cell_type": "markdown",
   "metadata": {
    "graffitiCellId": "id_vhxf50c"
   },
   "source": [
    "### Problem Statement\n",
    "\n",
    "\n",
    "Given a list of integers that contain natural numbers in random order.  Write a program to find the longest possible sub sequence of consecutive numbers in the array. Return this subsequence in sorted order. \n",
    "\n",
    "*In other words, you have to return the sorted longest (sub) list of consecutive numbers present anywhere in the given list.* \n",
    "\n",
    "For example, given the list `5, 4, 7, 10, 1, 3, 55, 2`, the output should be `1, 2, 3, 4, 5`\n",
    "\n",
    "**Note** \n",
    "1. The solution must take O(n) time. *Can you think of using a dictionary here?*\n",
    "2. If two subsequences are of equal length, return the subsequence whose index of smallest element comes first.\n",
    "\n",
    "---\n",
    "\n",
    "### The Idea:\n",
    "Every element of the given `input_list` could be a part of some subsequence. Therefore, we need a way (using a dictionary) to keep track if an element has already been visited. Also, store length of a subsequence if it is maximum. For this purpose, we have to check in **forward** direction, if the `(element+1)` is available in the given dictionary, in a \"while\" loop. Similarly, we will check in **backward** direction for `(element-1)`, in another \"while\" loop. At last, if we have the smallest element and the length of the longest subsequence, we can return a **new** list starting from \"smallest element\" to \"smallest element + length\".\n",
    "\n",
    "The steps would be:\n",
    "\n",
    "\n",
    "1. Create a dictionary, such that the elements of input_list become the \"key\", and the corresponding index become the \"value\" in the dictionary. We are creating a dictionary because the lookup time is considered to be constant in a dictionary. \n",
    "\n",
    "\n",
    "2. For each `element` in the `input_list`, first mark it as visited in the dictionary\n",
    "\n",
    " - Check in forward direction, if the `(element+1)` is available. If yes, increment the length of subsequence\n",
    " \n",
    " - Check in backward direction, if the `(element-1)` is available. If yes, increment the length of subsequence\n",
    "\n",
    " - Keep a track of length of longest subsequence visited so far. For the longest subsequence, store the smallest element (say `start_element`) and its index as well.  \n",
    "\n",
    "\n",
    "3. Return a **new** list starting from `start_element` to `start_element + length`."
   ]
  },
  {
   "cell_type": "code",
   "execution_count": null,
   "metadata": {
    "graffitiCellId": "id_jpmbugn"
   },
   "outputs": [],
   "source": [
    "a=[(0,5)]\n",
    "a.extend([(1,4)])\n",
    "a"
   ]
  },
  {
   "cell_type": "markdown",
   "metadata": {
    "graffitiCellId": "id_q492hrd"
   },
   "source": [
    "### Exercise - Write the function definition here"
   ]
  },
  {
   "cell_type": "code",
   "execution_count": null,
   "metadata": {
    "graffitiCellId": "id_eaee7mz"
   },
   "outputs": [],
   "source": [
    "def longest_consecutive_subsequence(input_list):\n",
    "    \n",
    "    some_dict ={}\n",
    "    sub_seq =[]\n",
    "    max_len = 0\n",
    "    \n",
    "    for index,item in enumerate(input_list):\n",
    "        temp =[]\n",
    "        if item not in some_dict:\n",
    "            some_dict[item] = [index,item]\n",
    "        number = item        \n",
    "        while True:\n",
    "            if number+1 in some_dict:\n",
    "                temp.append((some_dict[number+1][0],number+1))\n",
    "                number += 1\n",
    "            else:\n",
    "                break\n",
    "        number = item\n",
    "        while True:\n",
    "            if number-1 in some_dict:\n",
    "                temp.append((some_dict[number-1][0],number-1))\n",
    "                number -= 1\n",
    "            else:\n",
    "                break\n",
    "        if len(temp) !=0:\n",
    "            temp.append((index,item))\n",
    "        else:\n",
    "            continue\n",
    "            \n",
    "        if len(temp) >= max_len:            \n",
    "            sub_seq.append((temp,min(temp,key=lambda x:x[1])[0],len(temp)))\n",
    "            max_len=len(temp)\n",
    "   \n",
    "    min_index= (min([(list_,index) for list_,index,length in sub_seq if length==max_len],key=lambda x:x[1])[1])\n",
    "    \n",
    "    return [element for element in range(input_list[min_index],input_list[min_index]+max_len)]\n",
    "        \n",
    "   \n",
    "    \n",
    "\n",
    "             "
   ]
  },
  {
   "cell_type": "code",
   "execution_count": 1,
   "metadata": {
    "graffitiCellId": "id_he47g0z"
   },
   "outputs": [],
   "source": [
    "## My solution during revision\n",
    "\n",
    "def longest_consecutive_subsequence(input_list):\n",
    "    \n",
    "    some_dict = {element:index for index,element in enumerate(input_list)}\n",
    "    max_length = 0\n",
    "    for element in input_list:\n",
    "        if some_dict[element] < 0:\n",
    "            continue            \n",
    "        start_index = some_dict[element]\n",
    "        start_element = element\n",
    "        some_dict[element] = -1\n",
    "        length = 1\n",
    "        current = element+1\n",
    "        while current in some_dict and some_dict[current] > 0:\n",
    "            length +=1\n",
    "            some_dict[current] = -1\n",
    "            current += 1\n",
    "        \n",
    "        current = element -1\n",
    "        while current in some_dict and some_dict[current] > 0:\n",
    "            start_index = some_dict[current]\n",
    "            start_element = current\n",
    "            length +=1\n",
    "            some_dict[current] = -1\n",
    "            current -= 1\n",
    "        \n",
    "        \n",
    "        if length > max_length:\n",
    "            max_length = length\n",
    "            result = max_length,start_index,start_element\n",
    "        elif length == max_length:\n",
    "            if result[1] > start_index:\n",
    "                result = length,start_index,start_element\n",
    "         \n",
    "    return(list(range(result[2],result[2]+result[0])))    \n",
    "        "
   ]
  },
  {
   "cell_type": "code",
   "execution_count": null,
   "metadata": {
    "graffitiCellId": "id_63oyddx"
   },
   "outputs": [],
   "source": [
    "def longest_consecutive_subsequence1(input_list):\n",
    "    \n",
    "    some_dict ={}\n",
    "    sub_seq =[]\n",
    "    max_len = 0\n",
    "    starts_at = -1\n",
    "    \n",
    "    for index,item in enumerate(input_list):\n",
    "        length,current_starts=0,-1\n",
    "        if item not in some_dict:\n",
    "            some_dict[item] = [index,item]\n",
    "        number = item        \n",
    "        while True:\n",
    "            if number+1 in some_dict:               \n",
    "                length +=1\n",
    "                number += 1\n",
    "            else:\n",
    "                break\n",
    "        number = item\n",
    "        while True:\n",
    "            if number-1 in some_dict:                \n",
    "                current_starts = some_dict[number-1][0]\n",
    "                length += 1\n",
    "                number -= 1\n",
    "            else:\n",
    "                break\n",
    "        if length > 0:\n",
    "            length += 1\n",
    "            if current_starts == -1:\n",
    "                current_starts = index\n",
    "        \n",
    "        if length >= max_len and length > 0:\n",
    "            if length ==max_len and current_starts > starts_at:\n",
    "                continue\n",
    "            starts_at = current_starts\n",
    "            max_len = length\n",
    "    \n",
    "    return [element for element in range(input_list[starts_at],input_list[starts_at] + max_len)]"
   ]
  },
  {
   "cell_type": "code",
   "execution_count": null,
   "metadata": {
    "graffitiCellId": "id_krs6svw"
   },
   "outputs": [],
   "source": [
    "longest_consecutive_subsequence1([2, 12, 9, 16, 10, 5, 3, 20, 25, 11, 1, 8, 6,7 ])"
   ]
  },
  {
   "cell_type": "code",
   "execution_count": null,
   "metadata": {
    "graffitiCellId": "id_38oxds6"
   },
   "outputs": [],
   "source": [
    "a=[(0,3)]\n",
    "min(a,key=lambda x:x[1])"
   ]
  },
  {
   "cell_type": "markdown",
   "metadata": {
    "graffitiCellId": "id_7w3exwo"
   },
   "source": [
    "### Test - Let's test your function"
   ]
  },
  {
   "cell_type": "code",
   "execution_count": 3,
   "metadata": {
    "graffitiCellId": "id_hlznh6q"
   },
   "outputs": [],
   "source": [
    "def test_function(test_case):\n",
    "    output = longest_consecutive_subsequence(test_case[0])\n",
    "    print(output)\n",
    "    if output == test_case[1]:\n",
    "        print(\"Pass\")\n",
    "    else:\n",
    "        print(\"Fail\")\n",
    "    "
   ]
  },
  {
   "cell_type": "code",
   "execution_count": 4,
   "metadata": {
    "graffitiCellId": "id_z2y7gsr"
   },
   "outputs": [
    {
     "name": "stdout",
     "output_type": "stream",
     "text": [
      "[1, 2, 3, 4, 5]\n",
      "Pass\n"
     ]
    }
   ],
   "source": [
    "test_case_1 = [[5, 4, 7, 10, 1, 3, 55, 2], [1, 2, 3, 4, 5]]\n",
    "test_function(test_case_1)"
   ]
  },
  {
   "cell_type": "code",
   "execution_count": 5,
   "metadata": {
    "graffitiCellId": "id_a3yf5ol"
   },
   "outputs": [
    {
     "name": "stdout",
     "output_type": "stream",
     "text": [
      "[8, 9, 10, 11, 12]\n",
      "Pass\n"
     ]
    }
   ],
   "source": [
    "test_case_2 = [[2, 12, 9, 16, 10, 5, 3, 20, 25, 11, 1, 8, 6 ], [8, 9, 10, 11, 12]]\n",
    "test_function(test_case_2)"
   ]
  },
  {
   "cell_type": "code",
   "execution_count": 6,
   "metadata": {
    "graffitiCellId": "id_u5rs0q7"
   },
   "outputs": [
    {
     "name": "stdout",
     "output_type": "stream",
     "text": [
      "[0, 1, 2, 3, 4]\n",
      "Pass\n"
     ]
    }
   ],
   "source": [
    "test_case_3 = [[0, 1, 2, 3, 4], [0, 1, 2, 3, 4]]\n",
    "test_function(test_case_3)"
   ]
  },
  {
   "cell_type": "code",
   "execution_count": 7,
   "metadata": {
    "graffitiCellId": "id_odryycc"
   },
   "outputs": [
    {
     "name": "stdout",
     "output_type": "stream",
     "text": [
      "[5, 6, 7, 8, 9, 10, 11, 12]\n",
      "Pass\n"
     ]
    }
   ],
   "source": [
    "test_case_2 = [[2, 12, 9, 16, 10, 5, 3, 20, 25, 11, 1, 8, 6,7 ], [5,6,7,8, 9, 10, 11, 12]]\n",
    "test_function(test_case_2)"
   ]
  },
  {
   "cell_type": "markdown",
   "metadata": {
    "graffitiCellId": "id_et1ek54"
   },
   "source": [
    "<span class=\"graffiti-highlight graffiti-id_et1ek54-id_r15x1vg\"><i></i><button>Show Solution</button></span>"
   ]
  }
 ],
 "metadata": {
  "graffiti": {
   "firstAuthorId": "10694620118",
   "id": "id_alotytm",
   "language": "EN"
  },
  "kernelspec": {
   "display_name": "Python 3",
   "language": "python",
   "name": "python3"
  },
  "language_info": {
   "codemirror_mode": {
    "name": "ipython",
    "version": 3
   },
   "file_extension": ".py",
   "mimetype": "text/x-python",
   "name": "python",
   "nbconvert_exporter": "python",
   "pygments_lexer": "ipython3",
   "version": "3.6.3"
  }
 },
 "nbformat": 4,
 "nbformat_minor": 2
}
