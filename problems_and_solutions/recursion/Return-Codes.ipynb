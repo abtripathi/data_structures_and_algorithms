{
 "cells": [
  {
   "cell_type": "markdown",
   "metadata": {
    "graffitiCellId": "id_1myd4mr"
   },
   "source": [
    "### Problem statement\n",
    "\n",
    "In an encryption system where ASCII lower case letters represent numbers in the pattern `a=1, b=2, c=3...` and so on, find out all the codes that are possible for a given input number. \n",
    "\n",
    "**Example 1**\n",
    "\n",
    "* `number = 123`\n",
    "* `codes_possible = [\"aw\", \"abc\", \"lc\"]`\n",
    "\n",
    "Explanation: The codes are for the following number:\n",
    "         \n",
    "* 1 . 23     = \"aw\"\n",
    "* 1 . 2 . 3  = \"abc\"\n",
    "* 12 . 3     = \"lc\"\n",
    "    \n",
    "\n",
    "**Example 2**  \n",
    "\n",
    "* `number = 145`\n",
    "* `codes_possible = [\"ade\", \"ne\"]`\n",
    "\n",
    "Return the codes in a list. The order of codes in the list is not important.\n",
    "\n",
    "*Note: you can assume that the input number will not contain any 0s*"
   ]
  },
  {
   "cell_type": "code",
   "execution_count": 1,
   "metadata": {
    "graffitiCellId": "id_90x9fup"
   },
   "outputs": [
    {
     "data": {
      "text/plain": [
       "'a'"
      ]
     },
     "execution_count": 1,
     "metadata": {},
     "output_type": "execute_result"
    }
   ],
   "source": [
    "chr(97) "
   ]
  },
  {
   "cell_type": "code",
   "execution_count": 5,
   "metadata": {
    "graffitiCellId": "id_v2stglr"
   },
   "outputs": [],
   "source": [
    "def get_alphabet(number):\n",
    "    \"\"\"\n",
    "    Helper function to figure out alphabet of a particular number\n",
    "    Remember: \n",
    "        * ASCII for lower case 'a' = 97\n",
    "        * chr(num) returns ASCII character for a number e.g. chr(65) ==> 'A'\n",
    "    \"\"\"\n",
    "    return chr(number + 96)    \n",
    "    \n",
    "\n",
    "def all_codes1(number):\n",
    "    \n",
    "    \"\"\"\n",
    "    :param: number - input integer\n",
    "    Return - list() of all codes possible for this number\n",
    "    TODO: complete this method and return a list with all possible codes for the input number\n",
    "    \"\"\"\n",
    "    out=[]\n",
    "    if number <=9:\n",
    "        out =  get_alphabet(number)    \n",
    "    elif 9 < number <=26:       \n",
    "        out.append(get_alphabet(number))\n",
    "        #print(out)\n",
    "    elif not (26 < number < 100):\n",
    "        out.extend(divide_(number))\n",
    "    out.append(calculate_last_digit(number))\n",
    "    return out          \n",
    "           \n",
    "    \n",
    "def calculate_last_digit(number):\n",
    "    \n",
    "    if number <=9:\n",
    "        return get_alphabet(number)\n",
    "    last_digit = number%10    \n",
    "    output = calculate_last_digit(number//10)    \n",
    "    output +=get_alphabet(last_digit)  \n",
    "    return output\n",
    "    \n",
    "def divide_(number):\n",
    "        \n",
    "    if number//10 < 9:\n",
    "        return []\n",
    "    output=[]   \n",
    "    if number//10 <=26 and number%10 <=26:        \n",
    "        output.append(get_alphabet(number//10)+get_alphabet(number%10))\n",
    "       \n",
    "    if number//100 <=26 and number%100 <=26:\n",
    "        output.append(get_alphabet(number//100)+get_alphabet(number%100))  \n",
    "  \n",
    "             \n",
    "    #output.append(get_alphabet(number%10))\n",
    "    some_list = divide_(number//10)\n",
    "    #print(some_list)\n",
    "    for i,item in enumerate(some_list):\n",
    "        some_list[i]= item+get_alphabet(number%10)\n",
    "       \n",
    "    output.extend(some_list)\n",
    "   \n",
    "    return outpubt\n",
    "    \n",
    "    \n",
    "      "
   ]
  },
  {
   "cell_type": "code",
   "execution_count": null,
   "metadata": {
    "graffitiCellId": "id_wkteps9"
   },
   "outputs": [],
   "source": [
    "def get_alphabet(number):\n",
    "    \"\"\"\n",
    "    Helper function to figure out alphabet of a particular number\n",
    "    Remember: \n",
    "        * ASCII for lower case 'a' = 97\n",
    "        * chr(num) returns ASCII character for a number e.g. chr(65) ==> 'A'\n",
    "    \"\"\"\n",
    "    return chr(number + 96)  \n",
    "\n",
    "def all_codes(number):\n",
    "    \n",
    "    \n",
    "    \n",
    "    \n",
    "    "
   ]
  },
  {
   "cell_type": "code",
   "execution_count": 23,
   "metadata": {
    "graffitiCellId": "id_s224bx8"
   },
   "outputs": [],
   "source": [
    "def get_alphabet(number):\n",
    "    \"\"\"\n",
    "    Helper function to figure out alphabet of a particular number\n",
    "    Remember: \n",
    "        * ASCII for lower case 'a' = 97\n",
    "        * chr(num) returns ASCII character for a number e.g. chr(65) ==> 'A'\n",
    "    \"\"\"\n",
    "    return chr(number + 96)    \n",
    "    \n",
    "\n",
    "def all_codes(number):\n",
    "    print('new code')\n",
    "    if number==0:\n",
    "        return []\n",
    "    remainder = number%100\n",
    "    out=list()\n",
    "    if remainder <=26:\n",
    "        if 0 < number//100 <=26:\n",
    "            element = get_alphabet(number//100)\n",
    "            out.append(element+get_alphabet(remainder))\n",
    "        elif number //100==0:\n",
    "            out.append(get_alphabet(remainder))\n",
    "      \n",
    "    some_list = all_codes(number//10)\n",
    "    for index,item in enumerate(some_list):\n",
    "        some_list[index] = item+get_alphabet(number%10)\n",
    "    out.extend(some_list) \n",
    "    return out        \n",
    "    "
   ]
  },
  {
   "cell_type": "code",
   "execution_count": null,
   "metadata": {
    "graffitiCellId": "id_xcitmfg"
   },
   "outputs": [],
   "source": [
    "def all_codes(number):\n",
    "    if number == 0:\n",
    "        return []\n",
    "    remainder = number%100\n",
    "    out=list()\n",
    "    if remainder <=26:\n",
    "        if 0 < number//100 <=26:\n",
    "            element = get_alphabet(number//100)\n",
    "            out.append(element+get_alphabet(remainder))\n",
    "        elif number//100 ==0:\n",
    "            out.append(get_alphabet(remainder))\n",
    "        \n",
    "    some_list = all_codes(number//10)\n",
    "    for index,item in enumerate(some_list):\n",
    "        some_list[index] = item+get_alphabet(number%10)\n",
    "    out.extend(some_list)\n",
    "    return out\n",
    "        \n",
    "    "
   ]
  },
  {
   "cell_type": "code",
   "execution_count": 9,
   "metadata": {
    "graffitiCellId": "id_rf20oaq"
   },
   "outputs": [
    {
     "data": {
      "text/plain": [
       "['ku', 'ala', 'kba', 'aaba']"
      ]
     },
     "execution_count": 9,
     "metadata": {},
     "output_type": "execute_result"
    }
   ],
   "source": [
    "all_codes(1121)"
   ]
  },
  {
   "cell_type": "code",
   "execution_count": 189,
   "metadata": {
    "graffitiCellId": "id_ky8wkkt"
   },
   "outputs": [
    {
     "data": {
      "text/plain": [
       "[1, 2, 3]"
      ]
     },
     "execution_count": 189,
     "metadata": {},
     "output_type": "execute_result"
    }
   ],
   "source": [
    "a=[1,2,3]\n",
    "a.extend([])\n",
    "a"
   ]
  },
  {
   "cell_type": "code",
   "execution_count": 215,
   "metadata": {
    "graffitiCellId": "id_5pyekxg"
   },
   "outputs": [
    {
     "data": {
      "text/plain": [
       "[]"
      ]
     },
     "execution_count": 215,
     "metadata": {},
     "output_type": "execute_result"
    }
   ],
   "source": [
    "divide_(113)"
   ]
  },
  {
   "cell_type": "code",
   "execution_count": 15,
   "metadata": {
    "graffitiCellId": "id_sj9in16"
   },
   "outputs": [
    {
     "data": {
      "text/plain": [
       "'abcde'"
      ]
     },
     "execution_count": 15,
     "metadata": {},
     "output_type": "execute_result"
    }
   ],
   "source": [
    "calculate_last_digit(12345)"
   ]
  },
  {
   "cell_type": "markdown",
   "metadata": {
    "graffitiCellId": "id_q8i2zj9"
   },
   "source": [
    "<span class=\"graffiti-highlight graffiti-id_q8i2zj9-id_yrg0ir2\"><i></i><button>Show Solution</button></span>"
   ]
  },
  {
   "cell_type": "code",
   "execution_count": 24,
   "metadata": {
    "graffitiCellId": "id_byos91q"
   },
   "outputs": [],
   "source": [
    "def test_function(test_case):\n",
    "    number = test_case[0]\n",
    "    solution = test_case[1]\n",
    "    \n",
    "    output = all_codes(number)\n",
    "    \n",
    "    output.sort()\n",
    "    solution.sort()\n",
    "    \n",
    "    if output == solution:\n",
    "        print(\"Pass\")\n",
    "    else:\n",
    "        print(\"Fail\")"
   ]
  },
  {
   "cell_type": "code",
   "execution_count": 25,
   "metadata": {
    "graffitiCellId": "id_l3o11vy"
   },
   "outputs": [
    {
     "name": "stdout",
     "output_type": "stream",
     "text": [
      "new code\n",
      "new code\n",
      "new code\n",
      "new code\n",
      "Pass\n"
     ]
    }
   ],
   "source": [
    "number = 123\n",
    "solution = ['abc', 'aw', 'lc']\n",
    "test_case = [number, solution]\n",
    "test_function(test_case)"
   ]
  },
  {
   "cell_type": "code",
   "execution_count": 18,
   "metadata": {
    "graffitiCellId": "id_a5y5trj"
   },
   "outputs": [
    {
     "name": "stdout",
     "output_type": "stream",
     "text": [
      "Pass\n"
     ]
    }
   ],
   "source": [
    "number = 145\n",
    "solution =  ['ade', 'ne']\n",
    "test_case = [number, solution]\n",
    "test_function(test_case)"
   ]
  },
  {
   "cell_type": "code",
   "execution_count": 19,
   "metadata": {
    "graffitiCellId": "id_ujafvah"
   },
   "outputs": [
    {
     "name": "stdout",
     "output_type": "stream",
     "text": [
      "Pass\n"
     ]
    }
   ],
   "source": [
    "number = 1145\n",
    "solution =  ['aade', 'ane', 'kde']\n",
    "test_case = [number, solution]\n",
    "test_function(test_case)"
   ]
  },
  {
   "cell_type": "code",
   "execution_count": 20,
   "metadata": {
    "graffitiCellId": "id_6d1dxt9"
   },
   "outputs": [
    {
     "name": "stdout",
     "output_type": "stream",
     "text": [
      "Pass\n"
     ]
    }
   ],
   "source": [
    "number = 4545\n",
    "solution = ['dede']\n",
    "test_case = [number, solution]\n",
    "test_function(test_case)"
   ]
  },
  {
   "cell_type": "code",
   "execution_count": 21,
   "metadata": {
    "graffitiCellId": "id_llr51of"
   },
   "outputs": [
    {
     "data": {
      "text/plain": [
       "['kwd', 'alcd', 'kbcd', 'aabcd']"
      ]
     },
     "execution_count": 21,
     "metadata": {},
     "output_type": "execute_result"
    }
   ],
   "source": [
    "all_codes(11234)"
   ]
  }
 ],
 "metadata": {
  "graffiti": {
   "firstAuthorId": "dev",
   "id": "id_kdfaoy8",
   "language": "EN"
  },
  "kernelspec": {
   "display_name": "Python 3",
   "language": "python",
   "name": "python3"
  },
  "language_info": {
   "codemirror_mode": {
    "name": "ipython",
    "version": 3
   },
   "file_extension": ".py",
   "mimetype": "text/x-python",
   "name": "python",
   "nbconvert_exporter": "python",
   "pygments_lexer": "ipython3",
   "version": "3.6.3"
  }
 },
 "nbformat": 4,
 "nbformat_minor": 2
}
