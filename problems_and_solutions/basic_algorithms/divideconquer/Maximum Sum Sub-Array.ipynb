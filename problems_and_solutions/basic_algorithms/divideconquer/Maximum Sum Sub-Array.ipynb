{
 "cells": [
  {
   "cell_type": "markdown",
   "metadata": {
    "graffitiCellId": "id_7qqfnwv"
   },
   "source": [
    "### Problem Statement\n",
    "You are given an array `arr` having `n` integers. You have to find the maximum sum of contiguous subarray among all the possible subarrays. This problem is commonly called as [Maximum Subarray Problem](https://en.wikipedia.org/wiki/Maximum_subarray_problem). Solve this problem in *O(nlogn)* time, using Divide and Conquer approach. \n",
    "\n",
    "\n",
    "**Example 1**<br>\n",
    "Input: `arr = [-2, 1, -3, 5, 0, 3, 2, -5, 4]`<br>\n",
    "Output: `Maximum Sum = 10` for the  `subarray = [5, 0, 3, 2]`<br>\n",
    "\n",
    "**Example 2**<br>\n",
    "Input: `arr = [-2, -5, 6, -2, -3, 1, 5, -6]`<br>\n",
    "Output: `Maximum Sum = 7`  for the  `subarray = [6, -2, -3, 1, 5]`<br>\n",
    "\n",
    "***As of now, let's not return the subarray itself.***"
   ]
  },
  {
   "cell_type": "markdown",
   "metadata": {
    "graffitiCellId": "id_7dk56pg"
   },
   "source": [
    "---\n",
    "### The Idea\n",
    "Divide the given array into three subarray w.r.t. the middle, say Left, Right, and Cross subarrays. Recurse on the Left part, and Right part untill you reach the base condition, i.e. single element in a subarray. \n",
    "\n",
    "Calculate the **maximum sum** of the Left, Right, and Cross subarrays, say `L`, `R`, and `C` respectively. **Return the maximum of `L`, `R`, and `C`.** \n",
    "\n",
    "\n",
    "#### Logic to Calculate `C`, the Maximum sum of a \"Cross\" Subarray\n",
    "Start from the middle index, and traverse (sum the elements) in the left direction. Keep track of the maximum sum on the left part, say `leftMaxSum`. Similarly, start from the (middle +1) index, and traverse (sum the elements) in the right direction.  Keep track of the maximum sum on the right part, say `rightMaxSum`. Return the `(leftMaxSum + rightMaxSum)`, as `C`. The following exmaple would help you imagine the solution better:\n",
    "\n",
    "\n",
    "<img style=\"float: center;\" src=\"DNC.png\">\n",
    "<p style=\"text-align:center;\">The solution is 13.</p>\n",
    "\n",
    "--- \n",
    "### Pseudocode and Time Complexity Analysis\n",
    "`maxSubArrayRecursive(arr, start, stop)`&emsp;&emsp;&emsp;&emsp; <font color=\"red\">*T(n)*</font> <br> \n",
    "&emsp;&emsp;` 1. if (start==stop):`<br>\n",
    "&emsp;&emsp;&emsp;&emsp;&emsp;&emsp;`return arr[start]`<br><br>\n",
    "&emsp;&emsp;` 2. Calculate mid index`&emsp;&emsp;&emsp;&emsp;&emsp;&emsp; <font color=\"red\">*constant*</font> <br><br>\n",
    "&emsp;&emsp;` 3. L = maxSubArrayRecursive(arr, start, mid) `&emsp;&emsp;&emsp;&emsp;&emsp;&emsp; <font color=\"red\">*T($\\frac{n}{2}$)*</font> <br><br>\n",
    "&emsp;&emsp;` 4. R = maxSubArrayRecursive(arr, mid+1, stop) `&emsp;&emsp;&emsp;&emsp;&emsp;&emsp; <font color=\"red\">*T($\\frac{n}{2}$)*</font> <br><br>\n",
    "&emsp;&emsp;` 5. C = maxCrossingSum(arr, start, mid, stop) ` &emsp;&emsp;&emsp;&emsp;&emsp;&emsp; <font color=\"red\">*$\\Theta(n)$*</font> <br><br>\n",
    "&emsp;&emsp;` 6. return max(C, max(L,R)) `&emsp;&emsp;&emsp;&emsp;&emsp;&emsp; <font color=\"red\">*constant*</font> <br>\n",
    "<br>\n",
    "\n",
    "Total time of execution $T(n)$ = $2*T(\\frac{n}{2}) + \\Theta(n) \\equiv O(nlogn)$\n",
    "\n",
    "### Exercise - Write the function definition here. "
   ]
  },
  {
   "cell_type": "code",
   "execution_count": null,
   "metadata": {
    "graffitiCellId": "id_971xrg4"
   },
   "outputs": [],
   "source": [
    "def maxSubArray(arr):\n",
    "    '''\n",
    "    param: An array `arr`\n",
    "    return: The maximum sum of the contiguous subarray. \n",
    "    No need to return the subarray itself.    \n",
    "    '''\n",
    "    return maxSubArray_recursive(arr,0,len(arr)-1)\n",
    "    \n",
    "def maxSubArray_recursive(arr,start,end):\n",
    "    \n",
    "    if start==end:\n",
    "        return arr[start]\n",
    "    \n",
    "    midpoint = (start+end)//2\n",
    "    left_max = maxSubArray_recursive(arr,start,midpoint)\n",
    "    right_max = maxSubArray_recursive(arr,midpoint+1,end)\n",
    "    combined = arr[start:midpoint+1]+arr[midpoint+1:]\n",
    "    combined_mid_index = len(combined)//2\n",
    "    \n",
    "    left_sum = get_max(combined[:combined_mid_index],-1)\n",
    "    right_sum = get_max(combined[combined_mid_index:],1)\n",
    "    c = left_sum+right_sum\n",
    "    return max(left_max,right_max,c)\n",
    "    \n",
    "    \n",
    "def get_max(array,direction):   \n",
    "    \n",
    "    if direction == -1:\n",
    "        array = array[::-1]\n",
    "    \n",
    "    max_ = array[0]\n",
    "    sum_ = max_\n",
    "    for index in range(1,len(array)):\n",
    "        sum_ += array[index]\n",
    "        if sum_ > max_:\n",
    "            max_ = sum_\n",
    "    return max_\n",
    "        \n",
    "       "
   ]
  },
  {
   "cell_type": "code",
   "execution_count": null,
   "metadata": {
    "graffitiCellId": "id_4ibzuvk"
   },
   "outputs": [],
   "source": [
    "## my solution during revision\n",
    "\n",
    "def maxSubArray(arr):\n",
    "    \n",
    "    def _maxSubArray(arr,start,stop):\n",
    "        \n",
    "        if start==stop:\n",
    "            return arr[start]\n",
    "        \n",
    "        midpoint = (start+stop)//2\n",
    "        left_index = midpoint\n",
    "        right_index = midpoint+1\n",
    "        \n",
    "        L = _maxSubArray(arr,start,left_index)\n",
    "        R = _maxSubArray(arr,right_index,stop)\n",
    "        max_left = arr[left_index]\n",
    "        max_right = arr[right_index]\n",
    "        sum_left = 0\n",
    "        sum_right =0 \n",
    "        \n",
    "        while left_index >=0:\n",
    "            sum_left += arr[left_index]\n",
    "            if sum_left > max_left:\n",
    "                max_left = sum_left\n",
    "            left_index -=1\n",
    "            \n",
    "        while right_index < len(arr):\n",
    "            sum_right += arr[right_index]\n",
    "            if sum_right > max_right:\n",
    "                max_right = sum_right\n",
    "            right_index += 1\n",
    "        \n",
    "        return max(L,R,(max_left+max_right))\n",
    "    \n",
    "    return _maxSubArray(arr,0,len(arr)-1)\n",
    "    "
   ]
  },
  {
   "cell_type": "code",
   "execution_count": null,
   "metadata": {
    "graffitiCellId": "id_c878map"
   },
   "outputs": [],
   "source": [
    "## my solution during revision\n",
    "\n",
    "def maxSubArray(arr):\n",
    "    \n",
    "    def _calculate_cross_subarray(arr,start,stop,mid):\n",
    "        \n",
    "        left_index = mid\n",
    "        right_index = mid+1\n",
    "        \n",
    "        max_left = arr[left_index]\n",
    "        max_right = arr[right_index]\n",
    "        sum_left = 0\n",
    "        sum_right =0 \n",
    "        \n",
    "        while left_index >=start:\n",
    "            sum_left += arr[left_index]\n",
    "            if sum_left > max_left:\n",
    "                max_left = sum_left\n",
    "            left_index -=1\n",
    "            \n",
    "        while right_index < stop+1:\n",
    "            sum_right += arr[right_index]\n",
    "            if sum_right > max_right:\n",
    "                max_right = sum_right\n",
    "            right_index += 1\n",
    "            \n",
    "        return max_right+max_left\n",
    "        \n",
    "    \n",
    "    def _maxSubArray(arr,start,stop):\n",
    "        \n",
    "        if start==stop:\n",
    "            return arr[start]\n",
    "        \n",
    "        midpoint = (start+stop)//2\n",
    "        left_index = midpoint\n",
    "        right_index = midpoint+1\n",
    "        \n",
    "        L = _maxSubArray(arr,start,left_index)\n",
    "        R = _maxSubArray(arr,right_index,stop)\n",
    "        C = _calculate_cross_subarray(arr,start,stop,midpoint)\n",
    "        \n",
    "        return max(L,R,C)\n",
    "    \n",
    "    return _maxSubArray(arr,0,len(arr)-1)\n",
    "    \n"
   ]
  },
  {
   "cell_type": "code",
   "execution_count": 15,
   "metadata": {
    "graffitiCellId": "id_v2r7fld"
   },
   "outputs": [],
   "source": [
    "def maxSubArray(arr):\n",
    "    \n",
    "    def _calculate_cross_sub_array(arr,mid,start,stop):\n",
    "        \n",
    "        left_index = mid\n",
    "        right_index = mid+1\n",
    "        max_left,max_right=0,0\n",
    "        sum_left = 0\n",
    "        sum_right = 0\n",
    "        while left_index >=start:\n",
    "            sum_left += arr[left_index]\n",
    "            if max_left < sum_left:\n",
    "                max_left = sum_left\n",
    "            left_index -=1\n",
    "        while right_index <=stop:\n",
    "            sum_right += arr[right_index]\n",
    "            if max_right < sum_right:\n",
    "                max_right = sum_right\n",
    "            right_index +=1\n",
    "            \n",
    "        return max_left+max_right\n",
    "            \n",
    "    \n",
    "    def _maxSubArray(arr,start,stop):\n",
    "        \n",
    "        if start == stop:\n",
    "            return arr[start]\n",
    "        \n",
    "        mid = (start+stop)//2\n",
    "        L = _maxSubArray(arr,start,mid)\n",
    "        R = _maxSubArray(arr,mid+1,stop)\n",
    "        C = _calculate_cross_sub_array(arr,mid,start,stop)\n",
    "        \n",
    "        return max(L,R,C)\n",
    "    \n",
    "    return _maxSubArray(arr,0,len(arr)-1)\n",
    "    \n",
    "    \n",
    "    "
   ]
  },
  {
   "cell_type": "markdown",
   "metadata": {
    "graffitiCellId": "id_ojenmxb"
   },
   "source": [
    "<span class=\"graffiti-highlight graffiti-id_ojenmxb-id_pw4giwj\"><i></i><button>Show Solution</button></span>"
   ]
  },
  {
   "cell_type": "markdown",
   "metadata": {
    "graffitiCellId": "id_v341rpp"
   },
   "source": [
    "### Test - Let's test your function"
   ]
  },
  {
   "cell_type": "code",
   "execution_count": null,
   "metadata": {
    "graffitiCellId": "id_1wiu9yd"
   },
   "outputs": [],
   "source": [
    "# Test your code\n",
    "arr = [-2, 7, -6, 3, 1, -4, 5, 7] \n",
    "print(\"Maximum Sum = \",maxSubArray(arr))     # Outputs 13"
   ]
  },
  {
   "cell_type": "code",
   "execution_count": null,
   "metadata": {
    "graffitiCellId": "id_8kcxisn"
   },
   "outputs": [],
   "source": [
    "# Test your code\n",
    "arr = [-2, 1, -3, 4, -1, 2, 1, -5, 4] \n",
    "print(\"Maximum Sum = \",maxSubArray(arr))     # Outputs 6"
   ]
  },
  {
   "cell_type": "code",
   "execution_count": null,
   "metadata": {
    "graffitiCellId": "id_53cg7v6"
   },
   "outputs": [],
   "source": [
    "# Test your code\n",
    "arr = [-4, 14, -6, 7] \n",
    "print(\"Maximum Sum = \",maxSubArray(arr))     # Outputs 15"
   ]
  },
  {
   "cell_type": "code",
   "execution_count": null,
   "metadata": {
    "graffitiCellId": "id_876ybhp"
   },
   "outputs": [],
   "source": [
    "# Test your code\n",
    "arr = [-2, 1, -3, 5, 0, 3, 2, -5, 4]\n",
    "print(\"Maximum Sum = \",maxSubArray(arr))     # Outputs 10"
   ]
  },
  {
   "cell_type": "code",
   "execution_count": null,
   "metadata": {
    "graffitiCellId": "id_1fallee"
   },
   "outputs": [],
   "source": [
    "# Test your code\n",
    "arr = [-2, -5, 6, -2, -3, 1, 5, -6]\n",
    "print(\"Maximum Sum = \",maxSubArray(arr))     # Outputs 7"
   ]
  }
 ],
 "metadata": {
  "graffiti": {
   "firstAuthorId": "af9e0b36-2ad2-11ea-83c4-a78dc7ef519f",
   "id": "id_d58m4fr",
   "language": "EN"
  },
  "kernelspec": {
   "display_name": "Python 3",
   "language": "python",
   "name": "python3"
  },
  "language_info": {
   "codemirror_mode": {
    "name": "ipython",
    "version": 3
   },
   "file_extension": ".py",
   "mimetype": "text/x-python",
   "name": "python",
   "nbconvert_exporter": "python",
   "pygments_lexer": "ipython3",
   "version": "3.6.3"
  }
 },
 "nbformat": 4,
 "nbformat_minor": 2
}
