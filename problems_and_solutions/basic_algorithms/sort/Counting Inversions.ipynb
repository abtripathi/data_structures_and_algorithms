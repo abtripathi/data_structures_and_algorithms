{
 "cells": [
  {
   "cell_type": "markdown",
   "metadata": {
    "graffitiCellId": "id_ner1upo"
   },
   "source": [
    "# Counting Inversions\n",
    "\n",
    "The number of *inversions* in a disordered list is the number of pairs of elements that are inverted (out of order) in the list.  \n",
    "\n",
    "Here are some examples: \n",
    "  - [0,1] has 0 inversions\n",
    "  - [2,1] has 1 inversion (2,1)\n",
    "  - [3, 1, 2, 4] has 2 inversions (3, 2), (3, 1)\n",
    "  - [7, 5, 3, 1] has 6 inversions (7, 5), (3, 1), (5, 1), (7, 1), (5, 3), (7, 3)\n",
    "  \n",
    "The number of inversions can also be thought of in the following manner. \n",
    "\n",
    ">Given an array `arr[0 ... n-1]` of `n` distinct positive integers, for indices `i and j`, if `i < j` and `arr[i] > arr[j]` then the pair `(i, j)` is called an inversion of `arr`.\n",
    "\n",
    "## Problem statement\n",
    "\n",
    "Write a function, `count_inversions`, that takes an array (or Python list) as input, and returns a count of the total number of inversions present in the input.\n",
    "\n",
    "Mergesort provides an efficient way to solve this problem."
   ]
  },
  {
   "cell_type": "code",
   "execution_count": 10,
   "metadata": {
    "graffitiCellId": "id_jf6a5ys"
   },
   "outputs": [],
   "source": [
    "def count_inversions(items):\n",
    "    # TODO: Complete this function\n",
    "    \n",
    "    count = 0\n",
    "    def mergesort_with_index(items,start_index,end_index,count):\n",
    "        \n",
    "        if len(items)==0:\n",
    "            return (items,0)\n",
    "        if start_index == end_index:\n",
    "            return ([items[start_index]],0)\n",
    "        \n",
    "        midpoint = (end_index+start_index+1)//2\n",
    "        left,n1 = mergesort_with_index(items,start_index,midpoint-1,count)\n",
    "        right,n2 = mergesort_with_index(items,midpoint,end_index,count)\n",
    "        count += n1+n2        \n",
    "        merged_list,count= merge(left,right,count)       \n",
    "        return merged_list,count\n",
    "    \n",
    "    sorted_list,count_inversions = mergesort_with_index(items,0,len(items)-1,count)\n",
    "    return count_inversions\n",
    "        \n",
    "        \n",
    "def merge(left,right,count):\n",
    "    merged_sorted_list = []\n",
    "    left_index,right_index = 0,0\n",
    "    while left_index<len(left) and right_index<len(right):\n",
    "        if left[left_index] < right[right_index]:\n",
    "            merged_sorted_list.append(left[left_index])\n",
    "            left_index +=1\n",
    "        else:\n",
    "            merged_sorted_list.append(right[right_index])\n",
    "            right_index +=1    \n",
    "    \n",
    "    merged_sorted_list.extend(left[left_index:])\n",
    "    merged_sorted_list.extend(right[right_index:])\n",
    "    \n",
    "    left_index,right_index = 0,0\n",
    "    inversions = 0\n",
    "    while left_index < len(left):\n",
    "        if left[left_index] <= right[right_index]:\n",
    "            left_index +=1\n",
    "            right_index = 0\n",
    "        else:\n",
    "            inversions += 1\n",
    "            right_index +=1            \n",
    "            if right_index==len(right):                \n",
    "                right_index = 0\n",
    "                left_index +=1\n",
    "       \n",
    "    left,right = None,None\n",
    "    return merged_sorted_list,count+inversions\n",
    "    "
   ]
  },
  {
   "cell_type": "code",
   "execution_count": null,
   "metadata": {
    "graffitiCellId": "id_vl0fjfb"
   },
   "outputs": [],
   "source": [
    "count_inversions([54, 99, 49, 22, 37, 18, 22, 90, 86, 33])"
   ]
  },
  {
   "cell_type": "markdown",
   "metadata": {
    "graffitiCellId": "id_8809fp2"
   },
   "source": [
    "<span class=\"graffiti-highlight graffiti-id_8809fp2-id_8br31oi\"><i></i><button>Show Solution</button></span>"
   ]
  },
  {
   "cell_type": "code",
   "execution_count": 11,
   "metadata": {
    "graffitiCellId": "id_l6xh0rg"
   },
   "outputs": [],
   "source": [
    "def test_function(test_case):\n",
    "    arr = test_case[0]\n",
    "    solution = test_case[1]\n",
    "    if count_inversions(items) == solution:\n",
    "        print(\"Pass\")\n",
    "    else:\n",
    "        print(\"Fail\")\n"
   ]
  },
  {
   "cell_type": "code",
   "execution_count": 12,
   "metadata": {
    "graffitiCellId": "id_4aqr272"
   },
   "outputs": [
    {
     "name": "stdout",
     "output_type": "stream",
     "text": [
      "Pass\n"
     ]
    }
   ],
   "source": [
    "items = [2, 5, 1, 3, 4]\n",
    "solution = 4\n",
    "test_case = [items, solution]\n",
    "test_function(test_case)"
   ]
  },
  {
   "cell_type": "code",
   "execution_count": 13,
   "metadata": {
    "graffitiCellId": "id_0sqy9z2"
   },
   "outputs": [
    {
     "name": "stdout",
     "output_type": "stream",
     "text": [
      "Pass\n"
     ]
    }
   ],
   "source": [
    "items = [54, 99, 49, 22, 37, 18, 22, 90, 86, 33]\n",
    "solution = 26\n",
    "test_case = [items, solution]\n",
    "test_function(test_case)"
   ]
  },
  {
   "cell_type": "code",
   "execution_count": 14,
   "metadata": {
    "graffitiCellId": "id_s5l67ma"
   },
   "outputs": [
    {
     "name": "stdout",
     "output_type": "stream",
     "text": [
      "Pass\n"
     ]
    }
   ],
   "source": [
    "items = [1, 2, 4, 2, 3, 11, 22, 99, 108, 389]\n",
    "solution = 2\n",
    "test_case = [items, solution]\n",
    "test_function(test_case)"
   ]
  },
  {
   "cell_type": "code",
   "execution_count": 15,
   "metadata": {
    "graffitiCellId": "id_x0yjrkz"
   },
   "outputs": [
    {
     "name": "stdout",
     "output_type": "stream",
     "text": [
      "Pass\n"
     ]
    }
   ],
   "source": [
    "items = [2, 1]\n",
    "solution = 1\n",
    "test_case = [items, solution]\n",
    "test_function(test_case)"
   ]
  },
  {
   "cell_type": "code",
   "execution_count": 16,
   "metadata": {
    "graffitiCellId": "id_nndyvj3"
   },
   "outputs": [
    {
     "name": "stdout",
     "output_type": "stream",
     "text": [
      "Pass\n"
     ]
    }
   ],
   "source": [
    "items = [3,1, 2, 4]\n",
    "solution = 2\n",
    "test_case = [items, solution]\n",
    "test_function(test_case)"
   ]
  },
  {
   "cell_type": "code",
   "execution_count": 17,
   "metadata": {
    "graffitiCellId": "id_vn8fo6d"
   },
   "outputs": [
    {
     "name": "stdout",
     "output_type": "stream",
     "text": [
      "Pass\n"
     ]
    }
   ],
   "source": [
    "items = [7,5,3,1]\n",
    "solution = 6\n",
    "test_case = [items, solution]\n",
    "test_function(test_case)"
   ]
  }
 ],
 "metadata": {
  "graffiti": {
   "firstAuthorId": "dev",
   "id": "id_2rhwg9e",
   "language": "EN"
  },
  "kernelspec": {
   "display_name": "Python 3",
   "language": "python",
   "name": "python3"
  },
  "language_info": {
   "codemirror_mode": {
    "name": "ipython",
    "version": 3
   },
   "file_extension": ".py",
   "mimetype": "text/x-python",
   "name": "python",
   "nbconvert_exporter": "python",
   "pygments_lexer": "ipython3",
   "version": "3.6.3"
  }
 },
 "nbformat": 4,
 "nbformat_minor": 2
}
