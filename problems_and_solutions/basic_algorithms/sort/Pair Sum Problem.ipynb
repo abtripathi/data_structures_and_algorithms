{
 "cells": [
  {
   "cell_type": "markdown",
   "metadata": {
    "graffitiCellId": "id_chbughc"
   },
   "source": [
    "We saw a *similar* problem earlier in **Data Structures** course, **Maps and Hashing** lesson. There, we used an additional space to create a dictionary in order to solve the problem. \n",
    "\n",
    "\n",
    "## Problem Statement\n",
    "\n",
    "Given an input array and a target value (integer), find two values in the array whose sum is equal to the target value. Solve the problem **without using extra space**. You can assume the array has unique values and will never have more than one solution."
   ]
  },
  {
   "cell_type": "code",
   "execution_count": null,
   "metadata": {
    "graffitiCellId": "id_9rkom1w"
   },
   "outputs": [],
   "source": [
    "def pair_sum(arr, target):\n",
    "    \"\"\"\n",
    "    :param: arr - input array\n",
    "    :param: target - target value\n",
    "    TODO: complete this method to find two numbers such that their sum is equal to the target\n",
    "    Return the two numbers in the form of a sorted list\n",
    "    \"\"\"\n",
    "    arr.sort()\n",
    "    front_index = 0\n",
    "    last_index = len(arr)-1\n",
    "    while front_index < last_index:\n",
    "        if arr[front_index]+arr[last_index]==target:\n",
    "            return [arr[front_index],arr[last_index]]\n",
    "        elif arr[front_index]+arr[last_index] > target:\n",
    "            last_index -= 1\n",
    "        else:\n",
    "            front_index += 1\n",
    "    return [None,None]\n",
    "   \n",
    "    "
   ]
  },
  {
   "cell_type": "code",
   "execution_count": null,
   "metadata": {
    "graffitiCellId": "id_az97gd5"
   },
   "outputs": [],
   "source": [
    "## My solution during revision\n",
    "\n",
    "def pair_sum(arr, target):\n",
    "    \n",
    "    some_dict = {}\n",
    "    for index,element in enumerate(arr):\n",
    "        if target - element in some_dict:\n",
    "            return [target-element,element]\n",
    "        some_dict[element] = index\n",
    "    return [None,None]\n",
    "    \n",
    "    \n",
    "    "
   ]
  },
  {
   "cell_type": "code",
   "execution_count": 1,
   "metadata": {
    "graffitiCellId": "id_6xieivh"
   },
   "outputs": [],
   "source": [
    "## My alternate solution during revision\n",
    "\n",
    "def pair_sum(arr, target):\n",
    "    arr = sorted(arr)\n",
    "    for element in arr:\n",
    "        index_of_second_value = binary_search(arr,target-element)\n",
    "        if index_of_second_value !=-1:\n",
    "            return [element,arr[index_of_second_value]]\n",
    "        \n",
    "    return [None,None]    \n",
    "        \n",
    "def binary_search(arr,value):    \n",
    "    start_index = 0\n",
    "    end_index = len(arr)-1\n",
    "    while start_index <=end_index:\n",
    "        midpoint = (start_index+end_index)//2\n",
    "        if arr[midpoint]==value:\n",
    "            return midpoint\n",
    "        if arr[midpoint] < value:\n",
    "            start_index = midpoint+1\n",
    "        else:\n",
    "            end_index = midpoint-1\n",
    "    \n",
    "    return -1       \n",
    "    \n",
    "    \n",
    "    "
   ]
  },
  {
   "cell_type": "code",
   "execution_count": null,
   "metadata": {
    "graffitiCellId": "id_4knezjx"
   },
   "outputs": [],
   "source": [
    "binary_search([2,7,8,9,17],66)"
   ]
  },
  {
   "cell_type": "code",
   "execution_count": null,
   "metadata": {
    "graffitiCellId": "id_86swe9h"
   },
   "outputs": [],
   "source": [
    "print(pair_sum([110, 9, 89],9))"
   ]
  },
  {
   "cell_type": "markdown",
   "metadata": {
    "graffitiCellId": "id_z5auf94"
   },
   "source": [
    "<span class=\"graffiti-highlight graffiti-id_z5auf94-id_mxw6vbb\"><i></i><button>Hide Solution</button></span>"
   ]
  },
  {
   "cell_type": "code",
   "execution_count": null,
   "metadata": {
    "graffitiCellId": "id_mxw6vbb"
   },
   "outputs": [],
   "source": [
    "def pair_sum(arr, target):\n",
    "    # sort the list\n",
    "    arr.sort()\n",
    "    \n",
    "    # initialize two pointer - one from start of the array and other from the end\n",
    "    front_index = 0\n",
    "    back_index = len(arr) - 1\n",
    "\n",
    "    # shift the pointers\n",
    "    while front_index < back_index:\n",
    "        front = arr[front_index]\n",
    "        back = arr[back_index]\n",
    "\n",
    "        if front + back == target:\n",
    "            return [front, back]\n",
    "        elif front + back < target:       # sum < target ==> shift front pointer forward\n",
    "            front_index += 1 \n",
    "        else:\n",
    "            back_index -= 1               # sum > target ==> shift back pointer backward\n",
    "\n",
    "    return [None, None]"
   ]
  },
  {
   "cell_type": "code",
   "execution_count": 3,
   "metadata": {
    "graffitiCellId": "id_3eusmdv"
   },
   "outputs": [],
   "source": [
    "def test_function(test_case):\n",
    "    input_list = test_case[0]\n",
    "    target =test_case[1]\n",
    "    solution = test_case[2]\n",
    "    output = pair_sum(input_list, target)\n",
    "    print(output)\n",
    "    if output == solution:\n",
    "        print(\"Pass\")\n",
    "    else:\n",
    "        print(\"False\")\n",
    "\n"
   ]
  },
  {
   "cell_type": "code",
   "execution_count": 4,
   "metadata": {
    "graffitiCellId": "id_lt2ac2g"
   },
   "outputs": [
    {
     "name": "stdout",
     "output_type": "stream",
     "text": [
      "[2, 7]\n",
      "Pass\n"
     ]
    }
   ],
   "source": [
    "input_list = [2, 7, 11, 15]\n",
    "target = 9\n",
    "solution = [2, 7]\n",
    "test_case = [input_list, target, solution]\n",
    "test_function(test_case)"
   ]
  },
  {
   "cell_type": "code",
   "execution_count": 5,
   "metadata": {
    "graffitiCellId": "id_p8o19gq"
   },
   "outputs": [
    {
     "name": "stdout",
     "output_type": "stream",
     "text": [
      "[5, 7]\n",
      "Pass\n"
     ]
    }
   ],
   "source": [
    "input_list = [0, 8, 5, 7, 9]\n",
    "target = 12\n",
    "solution = [5, 7]\n",
    "test_case = [input_list, target, solution]\n",
    "test_function(test_case)"
   ]
  },
  {
   "cell_type": "code",
   "execution_count": 6,
   "metadata": {
    "graffitiCellId": "id_f0dyr3c"
   },
   "outputs": [
    {
     "name": "stdout",
     "output_type": "stream",
     "text": [
      "[None, None]\n",
      "Pass\n"
     ]
    }
   ],
   "source": [
    "input_list = [110, 9, 89]\n",
    "target = 9\n",
    "solution = [None, None]\n",
    "test_case = [input_list, target, solution]\n",
    "test_function(test_case)"
   ]
  }
 ],
 "metadata": {
  "graffiti": {
   "firstAuthorId": "dev",
   "id": "id_v3szme8",
   "language": "EN"
  },
  "kernelspec": {
   "display_name": "Python 3",
   "language": "python",
   "name": "python3"
  },
  "language_info": {
   "codemirror_mode": {
    "name": "ipython",
    "version": 3
   },
   "file_extension": ".py",
   "mimetype": "text/x-python",
   "name": "python",
   "nbconvert_exporter": "python",
   "pygments_lexer": "ipython3",
   "version": "3.6.3"
  }
 },
 "nbformat": 4,
 "nbformat_minor": 2
}
