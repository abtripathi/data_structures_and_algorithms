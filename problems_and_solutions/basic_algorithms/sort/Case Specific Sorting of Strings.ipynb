{
 "cells": [
  {
   "cell_type": "markdown",
   "metadata": {
    "graffitiCellId": "id_7nj9dyd"
   },
   "source": [
    "# Case Specific Sorting of Strings\n",
    "\n",
    "## Problem statement\n",
    "Given a string consisting of uppercase and lowercase ASCII characters, write a function, `case_sort`, that sorts uppercase and lowercase letters separately, such that if the $i$th place in the original string had an uppercase character then it should not have a lowercase character after being sorted and vice versa.\n",
    "\n",
    "For example:  \n",
    "**Input:** fedRTSersUXJ  \n",
    "**Output:** deeJRSfrsTUX"
   ]
  },
  {
   "cell_type": "code",
   "execution_count": null,
   "metadata": {
    "graffitiCellId": "id_jmqckie"
   },
   "outputs": [],
   "source": [
    "def case_sort(string):\n",
    "    \"\"\"\n",
    "    Here are some pointers on how the function should work:\n",
    "    1. Sort the string\n",
    "    2. Create an empty output list\n",
    "    3. Iterate over original string\n",
    "        if the character is lower-case:\n",
    "            pick lower-case character from sorted string to place in output list\n",
    "        else:\n",
    "            pick upper-case character from sorted string to place in output list\n",
    "    \n",
    "    Note: You can use Python's inbuilt ord() function to find the ASCII value of a character\n",
    "    \"\"\"\n",
    "    sorted_string = sorted(string)\n",
    "    for index,char in enumerate(sorted_string):\n",
    "        if ord(char) > 90:\n",
    "            break\n",
    "        \n",
    "    start_index_lower = index\n",
    "    start_index_upper = 0\n",
    "    out = list()\n",
    "    for char in string:\n",
    "        if char.isupper():\n",
    "            out.append(sorted_string[start_index_upper])\n",
    "            start_index_upper += 1\n",
    "        else:\n",
    "            out.append(sorted_string[start_index_lower])\n",
    "            start_index_lower +=1\n",
    "            \n",
    "    return ''.join(out)\n",
    "   "
   ]
  },
  {
   "cell_type": "code",
   "execution_count": null,
   "metadata": {
    "graffitiCellId": "id_jpkil56"
   },
   "outputs": [],
   "source": [
    "ord('X')"
   ]
  },
  {
   "cell_type": "code",
   "execution_count": 1,
   "metadata": {
    "graffitiCellId": "id_ada62wa"
   },
   "outputs": [],
   "source": [
    "## My solution during revision\n",
    "\n",
    "def case_sort(string):\n",
    "    \n",
    "    sorted_string = sorted(string)\n",
    "    new_string=''\n",
    "    \n",
    "    def binary_search(sorted_string):        \n",
    "        start_index = 0\n",
    "        end_index = len(sorted_string)-1\n",
    "        while start_index <= end_index:\n",
    "            midpoint = (start_index+end_index)//2\n",
    "            if sorted_string[midpoint]=='a':\n",
    "                return midpoint\n",
    "            if sorted_string[midpoint] <'a':\n",
    "                start_index = midpoint+1\n",
    "            else:\n",
    "                end_index = midpoint-1\n",
    "        return start_index\n",
    "    \n",
    "    index = binary_search(sorted_string)\n",
    "    upper_case_index = 0\n",
    "    lower_case_index = index\n",
    "    for character in string:\n",
    "        if ord(character)>=97:\n",
    "            new_string += sorted_string[lower_case_index]\n",
    "            lower_case_index +=1\n",
    "        else:\n",
    "            new_string += sorted_string[upper_case_index]\n",
    "            upper_case_index +=1\n",
    "     \n",
    "    return new_string\n",
    "      "
   ]
  },
  {
   "cell_type": "code",
   "execution_count": null,
   "metadata": {
    "graffitiCellId": "id_8n90ylc"
   },
   "outputs": [],
   "source": [
    "case_sort('defRTSersUXI')"
   ]
  },
  {
   "cell_type": "code",
   "execution_count": null,
   "metadata": {
    "graffitiCellId": "id_xft6o38"
   },
   "outputs": [],
   "source": [
    "chr(97)"
   ]
  },
  {
   "cell_type": "markdown",
   "metadata": {
    "graffitiCellId": "id_mw53bf1"
   },
   "source": [
    "<span class=\"graffiti-highlight graffiti-id_mw53bf1-id_fsblbn3\"><i></i><button>Show Solution</button></span>"
   ]
  },
  {
   "cell_type": "code",
   "execution_count": 2,
   "metadata": {
    "graffitiCellId": "id_z40d3cc"
   },
   "outputs": [],
   "source": [
    "def test_function(test_case):\n",
    "    test_string = test_case[0]\n",
    "    solution = test_case[1]\n",
    "    \n",
    "    if case_sort(test_string) == solution:\n",
    "        print(\"Pass\")\n",
    "    else:\n",
    "        print(\"Fail\")"
   ]
  },
  {
   "cell_type": "code",
   "execution_count": 3,
   "metadata": {
    "graffitiCellId": "id_gxkbvwz"
   },
   "outputs": [
    {
     "name": "stdout",
     "output_type": "stream",
     "text": [
      "Pass\n"
     ]
    }
   ],
   "source": [
    "test_string = 'fedRTSersUXJ'\n",
    "solution = \"deeJRSfrsTUX\"\n",
    "test_case = [test_string, solution]\n",
    "test_function(test_case)"
   ]
  },
  {
   "cell_type": "code",
   "execution_count": 4,
   "metadata": {
    "graffitiCellId": "id_uduu26h"
   },
   "outputs": [
    {
     "name": "stdout",
     "output_type": "stream",
     "text": [
      "Pass\n"
     ]
    }
   ],
   "source": [
    "test_string = \"defRTSersUXI\"\n",
    "solution = \"deeIRSfrsTUX\"\n",
    "test_case = [test_string, solution]\n",
    "test_function(test_case)"
   ]
  }
 ],
 "metadata": {
  "graffiti": {
   "firstAuthorId": "dev",
   "id": "id_9ub8eru",
   "language": "EN"
  },
  "kernelspec": {
   "display_name": "Python 3",
   "language": "python",
   "name": "python3"
  },
  "language_info": {
   "codemirror_mode": {
    "name": "ipython",
    "version": 3
   },
   "file_extension": ".py",
   "mimetype": "text/x-python",
   "name": "python",
   "nbconvert_exporter": "python",
   "pygments_lexer": "ipython3",
   "version": "3.6.3"
  }
 },
 "nbformat": 4,
 "nbformat_minor": 2
}
