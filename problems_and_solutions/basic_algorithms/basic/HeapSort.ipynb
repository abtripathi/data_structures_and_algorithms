{
 "cells": [
  {
   "cell_type": "markdown",
   "metadata": {
    "graffitiCellId": "id_8qbo8lo"
   },
   "source": [
    "# Heapsort\n",
    "\n",
    "A heapsort is an in-place sorting algorithm that treats an array like a binary tree and moves the largest values to the end of the heap until the full array is sorted.  \n",
    "\n",
    "The main steps in a heapsort are:\n",
    "1. Convert the array into a maxheap (a complete binary tree with decreasing values) \n",
    "2. Swap the top element with the last element in the array (putting it in it's correct final position)\n",
    "3. Repeat with `arr[:len(arr)-1]` (all but the sorted elements)\n",
    "\n",
    "## Visualization of a heapsort\n",
    "![animation of a heap sort](https://upload.wikimedia.org/wikipedia/commons/4/4d/Heapsort-example.gif)\n",
    "\n",
    "[\"Heapsort example\"](https://commons.wikimedia.org/wiki/File:Heapsort-example.gif) by Swfung8. Used under [CC BY-SA 3.0](https://creativecommons.org/licenses/by-sa/3.0/deed.en).\n",
    "\n",
    "## Problem statement\n",
    "\n",
    "In the cell below, see if you can code a `heapsort` function that takes an array (or Python list) and performs a heapsort on it. You will have to complete the heapify"
   ]
  },
  {
   "cell_type": "code",
   "execution_count": null,
   "metadata": {},
   "outputs": [],
   "source": [
    "def heapsort(arr):\n",
    "    \n",
    "    length = len(arr)\n",
    "    heapify(arr, length)    \n",
    "    while length > 0:\n",
    "        max_element = arr[0]\n",
    "        arr[0] = arr[length-1]\n",
    "        arr[length-1] = max_element\n",
    "        length -= 1\n",
    "        heapify(arr,length)\n",
    "    return arr\n",
    "    \n",
    "def heapify(arr,length):\n",
    "    \"\"\"\n",
    "    :param: arr - array to heapify\n",
    "    n -- number of elements in the array\n",
    "    i -- index of the current node\n",
    "    TODO: Converts an array (in place) into a maxheap, a complete binary tree with the largest values at the top\n",
    "    \"\"\"\n",
    "    for index in range(length):\n",
    "        parent_index = (index-1)//2        \n",
    "        while parent_index > -1:       \n",
    "            if arr[parent_index] < arr[index]:\n",
    "                temp = arr[parent_index]\n",
    "                arr[parent_index] = arr[index]\n",
    "                arr[index] = temp\n",
    "                index = parent_index\n",
    "                parent_index = (index-1)//2\n",
    "            else:\n",
    "                break\n",
    "     \n",
    "    #return arr\n",
    "                        \n",
    "   \n",
    "        \n",
    "    def _down_heapify():      \n",
    "    \n",
    "        parent_index = index    \n",
    "        while True:\n",
    "            left_child_index = 2*parent_index+1\n",
    "            right_child_index = 2*parent_index+2\n",
    "            if right_child_index < len(arr):\n",
    "                maximum = max(arr[parent_index],arr[left_child_index],arr[right_child_index])\n",
    "                if arr[parent_index] != maximum:\n",
    "                    if maximum == arr[left_child_index]:\n",
    "                        arr[parent_index] = temp\n",
    "                        arr[parent_index] = maximum\n",
    "                        arr[left_child_index] = temp\n",
    "                        parent_index = left_child_index\n",
    "                    else:\n",
    "                        arr[parent_index] = temp\n",
    "                        arr[parent_index] = maximum\n",
    "                        arr[right_child_index] = temp\n",
    "                        parent_index = right_child_index \n",
    "\n",
    "            elif left_child_index < len(arr):            \n",
    "                if arr[parent_index] < arr[left_child_index]:\n",
    "                    arr[parent_index] = temp\n",
    "                    arr[parent_index] = arr[left_child_index]\n",
    "                    arr[left_child_index] = temp\n",
    "                    parent_index = left_child_index            \n",
    "            else:\n",
    "                break\n",
    "            \n",
    "     "
   ]
  },
  {
   "cell_type": "code",
   "execution_count": 1,
   "metadata": {
    "graffitiCellId": "id_pgpohkg"
   },
   "outputs": [],
   "source": [
    "## My solution during revision\n",
    "\n",
    "def heapsort(arr):\n",
    "    \n",
    "    length = len(arr)\n",
    "    arr= heapify(arr,length)\n",
    "    while length > 0:        \n",
    "        temp = arr[length-1]\n",
    "        arr[length-1] = arr[0]\n",
    "        arr[0] = temp\n",
    "        arr = heapify(arr,length-1)\n",
    "        length -=1\n",
    "    return arr\n",
    "\n",
    "def heapify(arr,length):\n",
    "    \n",
    "    for index in range(1,length):       \n",
    "        child = index\n",
    "        parent = (child-1)//2        \n",
    "        while parent >=0 and arr[child] > arr[parent]:            \n",
    "            temp = arr[child]\n",
    "            arr[child] = arr[parent]\n",
    "            arr[parent] = temp\n",
    "            child = parent\n",
    "            parent = (child-1)//2            \n",
    "       \n",
    "    return arr\n",
    "            \n",
    "     "
   ]
  },
  {
   "cell_type": "code",
   "execution_count": null,
   "metadata": {
    "graffitiCellId": "id_guv0u92"
   },
   "outputs": [],
   "source": [
    "heapsort([])"
   ]
  },
  {
   "cell_type": "markdown",
   "metadata": {
    "graffitiCellId": "id_1h50lwk"
   },
   "source": [
    "<span class=\"graffiti-highlight graffiti-id_1h50lwk-id_kuae7he\"><i></i><button>Show Solution</button></span>"
   ]
  },
  {
   "cell_type": "code",
   "execution_count": 2,
   "metadata": {},
   "outputs": [],
   "source": [
    "def test_function(test_case):\n",
    "    heapsort(test_case[0])\n",
    "    if test_case[0] == test_case[1]:\n",
    "        print(\"Pass\")\n",
    "    else:\n",
    "        print(\"False\")"
   ]
  },
  {
   "cell_type": "code",
   "execution_count": 3,
   "metadata": {
    "graffitiCellId": "id_5z02ebi"
   },
   "outputs": [
    {
     "name": "stdout",
     "output_type": "stream",
     "text": [
      "Pass\n"
     ]
    }
   ],
   "source": [
    "arr = [3, 7, 4, 6, 1, 0, 9, 8, 9, 4, 3, 5]\n",
    "solution = [0, 1, 3, 3, 4, 4, 5, 6, 7, 8, 9, 9]\n",
    "\n",
    "test_case = [arr, solution]\n",
    "\n",
    "test_function(test_case)\n"
   ]
  },
  {
   "cell_type": "code",
   "execution_count": null,
   "metadata": {},
   "outputs": [],
   "source": [
    "arr = [5, 5, 5, 3, 3, 3, 4, 4, 4, 4]\n",
    "solution = [3, 3, 3, 4, 4, 4, 4, 5, 5, 5]\n",
    "test_case = [arr, solution]\n",
    "test_function(test_case)\n"
   ]
  },
  {
   "cell_type": "code",
   "execution_count": null,
   "metadata": {},
   "outputs": [],
   "source": [
    "arr = [99]\n",
    "solution = [99]\n",
    "test_case = [arr, solution]\n",
    "test_function(test_case)\n"
   ]
  },
  {
   "cell_type": "code",
   "execution_count": null,
   "metadata": {},
   "outputs": [],
   "source": [
    "arr = [0, 1, 2, 5, 12, 21, 0]\n",
    "solution = [0, 0, 1, 2, 5, 12, 21]\n",
    "test_case = [arr, solution]\n",
    "test_function(test_case)\n"
   ]
  },
  {
   "cell_type": "code",
   "execution_count": null,
   "metadata": {
    "graffitiCellId": "id_hnurr1x"
   },
   "outputs": [],
   "source": [
    "def some_function(list_):\n",
    "    list_.append(2)\n",
    "    "
   ]
  },
  {
   "cell_type": "code",
   "execution_count": null,
   "metadata": {
    "graffitiCellId": "id_zj68reh"
   },
   "outputs": [],
   "source": [
    "li = [4]\n",
    "some_function(li)\n",
    "li"
   ]
  }
 ],
 "metadata": {
  "graffiti": {
   "firstAuthorId": "10694620118",
   "id": "id_57afwqr",
   "language": "EN"
  },
  "kernelspec": {
   "display_name": "Python 3",
   "language": "python",
   "name": "python3"
  },
  "language_info": {
   "codemirror_mode": {
    "name": "ipython",
    "version": 3
   },
   "file_extension": ".py",
   "mimetype": "text/x-python",
   "name": "python",
   "nbconvert_exporter": "python",
   "pygments_lexer": "ipython3",
   "version": "3.6.3"
  }
 },
 "nbformat": 4,
 "nbformat_minor": 2
}
