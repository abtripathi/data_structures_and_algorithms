{
 "cells": [
  {
   "cell_type": "code",
   "execution_count": 1,
   "metadata": {},
   "outputs": [],
   "source": [
    "## Problem-1 Square root of an Integer"
   ]
  },
  {
   "cell_type": "code",
   "execution_count": 2,
   "metadata": {},
   "outputs": [],
   "source": [
    "def sqrt(number):\n",
    "    \"\"\"\n",
    "    Calculate the floored square root of a number\n",
    "\n",
    "    Args:\n",
    "       number(int): Number to find the floored squared root\n",
    "    Returns:\n",
    "       int: Floored Square Root       \n",
    "    \"\"\"\n",
    "    if isinstance(number,int):\n",
    "        ## seed call with lower bound as 1,upper bound as original number divided by 2\n",
    "        return recursive_root(1,number,number)\n",
    "    \n",
    "    return \"Number is not Integer\"\n",
    "   \n",
    "\n",
    "def recursive_root(lower_bound,upper_bound,number):\n",
    "    \n",
    "    midpoint = (lower_bound+upper_bound)//2 ## finding the midpoint\n",
    "    \n",
    "    if midpoint == lower_bound: ## base case happens when lower and upper bound are contiguous numbers for e.g 20,21 or 45,46\n",
    "        return midpoint\n",
    "    \n",
    "    if  midpoint**2 == number: ## if we actually hit the midpoint which is the real root(no decimals) of the given number \n",
    "        return midpoint\n",
    "    \n",
    "    elif midpoint**2 < number: #    \n",
    "        return recursive_root(midpoint,upper_bound,number) ## recursively call by increasing he lower bound    \n",
    "    \n",
    "    else:\n",
    "        return recursive_root(lower_bound,midpoint,number) ## recursively call by decreasing the upper bound    \n",
    "        \n",
    "    "
   ]
  },
  {
   "cell_type": "code",
   "execution_count": 3,
   "metadata": {},
   "outputs": [],
   "source": [
    "def test_function(test_cases):\n",
    "    for test_case in test_cases:\n",
    "        if sqrt(test_case[0]) == test_case[1]:\n",
    "            print('Pass')\n",
    "        else:\n",
    "            print('Fail')\n",
    "    "
   ]
  },
  {
   "cell_type": "code",
   "execution_count": 4,
   "metadata": {},
   "outputs": [
    {
     "name": "stdout",
     "output_type": "stream",
     "text": [
      "Pass\n",
      "Pass\n",
      "Pass\n",
      "Pass\n",
      "Pass\n",
      "Pass\n",
      "Pass\n",
      "Pass\n",
      "Pass\n",
      "Pass\n",
      "Pass\n",
      "Pass\n"
     ]
    }
   ],
   "source": [
    "\"\"\"\n",
    "test_cases contains the list where the first element in each list is the number whose square root needs to be calculated\n",
    "and the second element is the expected solution\n",
    "\"\"\"\n",
    "test_cases = [ [9,3],\n",
    "               [0,0],\n",
    "               [25,5],\n",
    "               [5,2],\n",
    "               [27,5],\n",
    "               [1,1],\n",
    "               [4,2],\n",
    "               [289,17],\n",
    "               [16,4],\n",
    "               [300,17],\n",
    "               [100,10],\n",
    "               [1000,31] ]\n",
    "\n",
    "\n",
    "test_function(test_cases)"
   ]
  },
  {
   "cell_type": "markdown",
   "metadata": {},
   "source": [
    "## Design choice\n",
    "\n",
    "The basic principle of this algorithm is to define the range of possible numbers which can be a square root of a given number.For the seed call,a naive approach could be that this range is defined by the lower bound of 1 and upper bound to be the given number itself.Then in the recursive function, following steps are carried out\n",
    "\n",
    "1. Find the midpoint of the range and check if that is the real root of the given number.if yes, return as a result  \n",
    "2. Base case hits when the lower bound is equal to the midpoint, in which case return the midpoint as the result  \n",
    "3. If midpoint multiplied by itself is greater than the number then recursively call the function by decreasing the upper bound to be equal to midpoint,while keeping lower bound the same\n",
    "3. If midpoint multiplied by itself is less than the number then recursively call the function by increasing the lower bound to be equal to midpoint, while keeping upper bound the same\n",
    "\n",
    "## Time Complexity\n",
    "\n",
    "We are decreasing the range of possible values in half at every recursive call, hence the time complexity is O(log(n))\n",
    "\n",
    "\n",
    "## Space Complexity\n",
    "\n",
    "Since we are using recursion hence the space complexity is equal to the depth of recursion which is also equal to O(log(n)) multiplied by the memory needed to hold the 'midpoint' value at every recursion step hence the space complexity is\n",
    "\n",
    "$O(log(n))*space$ required to hold 'midpoint' value\n",
    "\n"
   ]
  },
  {
   "cell_type": "code",
   "execution_count": null,
   "metadata": {},
   "outputs": [],
   "source": []
  }
 ],
 "metadata": {
  "kernelspec": {
   "display_name": "Python 3",
   "language": "python",
   "name": "python3"
  },
  "language_info": {
   "codemirror_mode": {
    "name": "ipython",
    "version": 3
   },
   "file_extension": ".py",
   "mimetype": "text/x-python",
   "name": "python",
   "nbconvert_exporter": "python",
   "pygments_lexer": "ipython3",
   "version": "3.6.3"
  }
 },
 "nbformat": 4,
 "nbformat_minor": 2
}
