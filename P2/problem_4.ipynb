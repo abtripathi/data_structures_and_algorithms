{
 "cells": [
  {
   "cell_type": "code",
   "execution_count": 1,
   "metadata": {},
   "outputs": [],
   "source": [
    "## Problem-4 Dutch National Flag Problem"
   ]
  },
  {
   "cell_type": "code",
   "execution_count": 2,
   "metadata": {},
   "outputs": [],
   "source": [
    "def sort_012(input_list):\n",
    "    \"\"\"\n",
    "    Given an input array consisting on only 0, 1, and 2, sort the array in a single traversal.\n",
    "\n",
    "    Args:\n",
    "       input_list(list): List to be sorted\n",
    "    \"\"\"\n",
    "    \n",
    "   # Traverse the list from the beginning with index = 0.If the element is 2, swap it with the last element and decrement last \n",
    "   # index by 1.if the element is 0,swap it with the element at the next available position of 0,increment the next available\n",
    "   # position of 0 by 1 and also the index by 1\n",
    "   # if element is neither 2 or 0 meaning 1 then simply advance the index by 1\n",
    "   # repeat until index crosses the last index meaning index > last index\n",
    "   # Return the sorted inputlist as output\n",
    "\n",
    "    next_pos_0,index = 0,0    \n",
    "    last_index = len(input_list)-1\n",
    "    while index <= last_index:\n",
    "        if input_list[index]==2:            \n",
    "            input_list[index] = input_list[last_index]\n",
    "            input_list[last_index] = 2\n",
    "            last_index -= 1        \n",
    "        elif input_list[index] == 0:\n",
    "            input_list[index] = input_list[next_pos_0]\n",
    "            input_list[next_pos_0] = 0            \n",
    "            next_pos_0 +=1\n",
    "            index += 1        \n",
    "        else:\n",
    "            index += 1\n",
    "            \n",
    "    return input_list\n",
    "           \n",
    "  "
   ]
  },
  {
   "cell_type": "code",
   "execution_count": 3,
   "metadata": {},
   "outputs": [],
   "source": [
    "def test_function(test_case):\n",
    "    sorted_array = sort_012(test_case)\n",
    "    print(sorted_array)\n",
    "    if sorted_array == sorted(test_case):\n",
    "        print(\"Pass\")\n",
    "    else:\n",
    "        print(\"Fail\")"
   ]
  },
  {
   "cell_type": "code",
   "execution_count": 4,
   "metadata": {},
   "outputs": [
    {
     "name": "stdout",
     "output_type": "stream",
     "text": [
      "[0, 0, 0, 1, 1, 1, 2, 2, 2, 2, 2]\n",
      "Pass\n",
      "[0, 0, 0, 0, 0, 0, 0, 0, 0, 0, 0, 1, 1, 1, 1, 1, 1, 2, 2, 2, 2, 2, 2, 2, 2, 2]\n",
      "Pass\n",
      "[0, 0, 0, 0, 0, 0, 1, 1, 1, 1, 1, 1, 2, 2, 2, 2, 2, 2, 2]\n",
      "Pass\n",
      "[0]\n",
      "Pass\n",
      "[]\n",
      "Pass\n",
      "[0, 0, 0]\n",
      "Pass\n",
      "[0, 1, 2]\n",
      "Pass\n",
      "[2, 2, 2]\n",
      "Pass\n",
      "[0, 0, 2]\n",
      "Pass\n",
      "[0, 0, 1, 1, 2, 2]\n",
      "Pass\n",
      "[0, 0, 1, 1, 2, 2]\n",
      "Pass\n",
      "[0, 0, 0, 0, 1, 1, 2, 2]\n",
      "Pass\n"
     ]
    }
   ],
   "source": [
    "test_function([0, 0, 2, 2, 2, 1, 1, 1, 2, 0, 2])\n",
    "test_function([2, 1, 2, 0, 0, 2, 1, 0, 1, 0, 0, 2, 2, 2, 1, 2, 0, 0, 0, 2, 1, 0, 2, 0, 0, 1])\n",
    "test_function([0, 0, 0, 0, 0, 0, 1, 1, 1, 1, 1, 1, 2, 2, 2, 2, 2, 2, 2])\n",
    "test_function([0])\n",
    "test_function([])\n",
    "test_function([0,0,0])\n",
    "test_function([0,1,2])\n",
    "test_function([2,2,2])\n",
    "test_function([2,0,0])\n",
    "test_function([0,1,2,0,1,2])\n",
    "test_function([0,2,1,0,1,2])\n",
    "test_function([0,0,1,1,0,0,2,2])"
   ]
  },
  {
   "cell_type": "markdown",
   "metadata": {},
   "source": [
    "## Time complexity\n",
    "\n",
    "Since we are traversing the `input_list` only once hence the time complexity = `O(n)`\n",
    "\n",
    "## Space complexity\n",
    "\n",
    "Sorting happens inplace and some variables are defined to store the index positions.These defined variables are independent of the input size hence it is a constant space operation.In other words, space complexity is `O(1)`\n"
   ]
  },
  {
   "cell_type": "code",
   "execution_count": null,
   "metadata": {},
   "outputs": [],
   "source": []
  }
 ],
 "metadata": {
  "kernelspec": {
   "display_name": "Python 3",
   "language": "python",
   "name": "python3"
  },
  "language_info": {
   "codemirror_mode": {
    "name": "ipython",
    "version": 3
   },
   "file_extension": ".py",
   "mimetype": "text/x-python",
   "name": "python",
   "nbconvert_exporter": "python",
   "pygments_lexer": "ipython3",
   "version": "3.6.3"
  }
 },
 "nbformat": 4,
 "nbformat_minor": 2
}
