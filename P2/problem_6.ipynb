{
 "cells": [
  {
   "cell_type": "code",
   "execution_count": 1,
   "metadata": {},
   "outputs": [],
   "source": [
    "## Problem-6 Max and Min in an Unsorted Array"
   ]
  },
  {
   "cell_type": "code",
   "execution_count": 2,
   "metadata": {},
   "outputs": [],
   "source": [
    "def get_min_max(ints):\n",
    "    \"\"\"\n",
    "    Return a tuple(min, max) out of list of unsorted integers.\n",
    "\n",
    "    Args:\n",
    "       ints(list): list of integers containing one or more integers\n",
    "    \"\"\"\n",
    "   \n",
    "    \n",
    "    if len(ints) == 0: ## edge case when the list passed is empty,return empty tuple\n",
    "        return tuple()   \n",
    "    \n",
    "    ## assign first element to be both maximum and minimum\n",
    "    \n",
    "    maximum = ints[0] \n",
    "    minimum = ints[0]\n",
    "    \n",
    "    ## Iterate from 2nd element to the end of the list and modify maximum,minimum variable by comparing them to the elements \n",
    "    ## accessed during traversal\n",
    "    \n",
    "    for index in range(1,len(ints)):\n",
    "        if ints[index] > maximum:\n",
    "            maximum = ints[index]\n",
    "        if ints[index] < minimum:\n",
    "            minimum = ints[index]\n",
    "            \n",
    "    return minimum,maximum\n",
    "    \n",
    "   "
   ]
  },
  {
   "cell_type": "code",
   "execution_count": 3,
   "metadata": {},
   "outputs": [
    {
     "name": "stdout",
     "output_type": "stream",
     "text": [
      "Pass\n"
     ]
    }
   ],
   "source": [
    "## Example Test Case of Ten Integers\n",
    "import random\n",
    "\n",
    "l = [i for i in range(0, 10)]  # a list containing 0 - 9\n",
    "\n",
    "random.shuffle(l)\n",
    "\n",
    "print (\"Pass\" if ((0, 9) == get_min_max(l)) else \"Fail\")"
   ]
  },
  {
   "cell_type": "code",
   "execution_count": 4,
   "metadata": {},
   "outputs": [
    {
     "name": "stdout",
     "output_type": "stream",
     "text": [
      "Pass\n"
     ]
    }
   ],
   "source": [
    "## Edge test case\n",
    "\n",
    "l = []\n",
    "\n",
    "print (\"Pass\" if () == get_min_max(l) else \"Fail\")"
   ]
  },
  {
   "cell_type": "code",
   "execution_count": 5,
   "metadata": {},
   "outputs": [
    {
     "name": "stdout",
     "output_type": "stream",
     "text": [
      "Pass\n"
     ]
    }
   ],
   "source": [
    "## Edge test case\n",
    "\n",
    "l = [1]\n",
    "\n",
    "print (\"Pass\" if (1,1) == get_min_max(l) else \"Fail\")"
   ]
  },
  {
   "cell_type": "code",
   "execution_count": 6,
   "metadata": {},
   "outputs": [
    {
     "name": "stdout",
     "output_type": "stream",
     "text": [
      "Pass\n"
     ]
    }
   ],
   "source": [
    "## Edge test case\n",
    "\n",
    "l = [0]\n",
    "\n",
    "print (\"Pass\" if (0,0) == get_min_max(l) else \"Fail\")"
   ]
  },
  {
   "cell_type": "code",
   "execution_count": 7,
   "metadata": {},
   "outputs": [
    {
     "name": "stdout",
     "output_type": "stream",
     "text": [
      "Pass\n"
     ]
    }
   ],
   "source": [
    "## Edge test case\n",
    "\n",
    "l = [2,2]\n",
    "\n",
    "print (\"Pass\" if (2,2) == get_min_max(l) else \"Fail\")"
   ]
  },
  {
   "cell_type": "markdown",
   "metadata": {},
   "source": [
    "## Time complexity\n",
    "\n",
    "The algorithm traverses the list only once and compares every element(2nd element onwards) in the list with the first element to find the maximum and minimum hence it is a linear time operation.In other words time complexity is `O(n)`\n",
    "\n",
    "## Space complexity\n",
    "\n",
    "The only variables/memory required by the algorithm are to store the value of 'maximum' and 'minimum' and it is not dependant on the input size hence it is a constant space operation.In other words,space complexity is `O(1)` "
   ]
  },
  {
   "cell_type": "code",
   "execution_count": null,
   "metadata": {},
   "outputs": [],
   "source": []
  }
 ],
 "metadata": {
  "kernelspec": {
   "display_name": "Python 3",
   "language": "python",
   "name": "python3"
  },
  "language_info": {
   "codemirror_mode": {
    "name": "ipython",
    "version": 3
   },
   "file_extension": ".py",
   "mimetype": "text/x-python",
   "name": "python",
   "nbconvert_exporter": "python",
   "pygments_lexer": "ipython3",
   "version": "3.6.3"
  }
 },
 "nbformat": 4,
 "nbformat_minor": 2
}
