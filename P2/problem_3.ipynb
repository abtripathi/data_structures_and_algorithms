{
 "cells": [
  {
   "cell_type": "code",
   "execution_count": 1,
   "metadata": {},
   "outputs": [],
   "source": [
    "## Problem-3 Rearrange Array Digits"
   ]
  },
  {
   "cell_type": "code",
   "execution_count": 2,
   "metadata": {},
   "outputs": [],
   "source": [
    "def rearrange_digits(input_list):\n",
    "    \"\"\"\n",
    "    Rearrange Array Elements so as to form two number such that their sum is maximum.\n",
    "\n",
    "    Args:\n",
    "       input_list(list): Input List\n",
    "    Returns:\n",
    "       (int),(int): Two maximum sums\n",
    "    \"\"\"\n",
    "    if len(input_list) < 2: ## edge case when the input list is either empty or of length =1.In this case return the input_list\n",
    "        return input_list\n",
    "    \n",
    "    def heapify(input_list,length):  ## heapify function to convert the given input list into max heap\n",
    "        \n",
    "        for index in range(length):            \n",
    "            parent_index = (index-1)//2        \n",
    "            while parent_index > -1:\n",
    "                if input_list[parent_index] < input_list[index]:\n",
    "                    temp = input_list[parent_index]\n",
    "                    input_list[parent_index] = input_list[index]\n",
    "                    input_list[index] = temp\n",
    "                    index = parent_index\n",
    "                    parent_index = (index - 1)//2\n",
    "                else:\n",
    "                    break     \n",
    "    \n",
    "    heapify(input_list,len(input_list)) ## call heapify on the given input_list\n",
    "    \n",
    "    ## logic to calculate the number of digits appearing in the 2 output numbers    \n",
    "    if len(input_list) % 2 ==0:\n",
    "        big_length = small_length = len(input_list)//2\n",
    "    else:\n",
    "        big_length = len(input_list)//2 + 1\n",
    "        small_length = len(input_list) - big_length\n",
    "    \n",
    "    \n",
    "    length = len(input_list) \n",
    "    \n",
    "    ## initialize big number, small number\n",
    "    big_number = 0              \n",
    "    small_number = 0\n",
    "    \n",
    "    ## since the input list is max heapifyed.Extract the max element(element at index 0) and then heapify the remaining list\n",
    "    ## again.Doing this for the entire length of the input list ensures that we are extracting elements in the descending order\n",
    "    ## Every alternate element extracted contributes either to the big number or to the  small number\n",
    "    ## Using the logic above to calculate the number of digits in each of the output number, we can multiply with the Power of\n",
    "    ## 10 to calculate the final 2 numbers and return them as the list of 2 numbers\n",
    "    \n",
    "    for index in range(len(input_list)):\n",
    "            \n",
    "        first_element = input_list[0]\n",
    "        input_list[0] = input_list[length-1]\n",
    "        input_list[length-1] = first_element\n",
    "        \n",
    "        if index % 2 == 0:\n",
    "            big_number += first_element*(10**(big_length-1))\n",
    "            big_length -=1\n",
    "        else:\n",
    "            small_number += first_element*(10**(small_length-1))\n",
    "            small_length -=1\n",
    "            \n",
    "        length -= 1\n",
    "        heapify(input_list,length)\n",
    "    \n",
    "    return list([big_number,small_number])\n",
    "        \n",
    "        \n",
    "    "
   ]
  },
  {
   "cell_type": "code",
   "execution_count": 3,
   "metadata": {},
   "outputs": [
    {
     "name": "stdout",
     "output_type": "stream",
     "text": [
      "Pass\n",
      "Pass\n",
      "Pass\n",
      "Pass\n",
      "Pass\n",
      "Pass\n",
      "Pass\n",
      "Pass\n",
      "Pass\n",
      "Pass\n"
     ]
    }
   ],
   "source": [
    "def test_function(test_case):\n",
    "    output = rearrange_digits(test_case[0])\n",
    "    solution = test_case[1]    \n",
    "    if sum(output) == sum(solution):\n",
    "        print(\"Pass\")\n",
    "    else:\n",
    "        print(\"Fail\")\n",
    "\n",
    "test_function([[1, 2, 3, 4, 5], [542, 31]])\n",
    "test_function([[4, 6, 2, 5, 9, 8], [964, 852]])\n",
    "test_function([[1], [1]])\n",
    "test_function([[], []])\n",
    "test_function([[1,3,2], [32,1]])\n",
    "test_function([[4,6,0], [60,4]])\n",
    "test_function([[0,1,4,6,0], [610,40]])\n",
    "test_function([[0,0,0], [0,0]])\n",
    "test_function([[1,1,1], [1,11]])\n",
    "test_function([[0,1,2,3,4,5,6,7,8,9], [97531, 86420]])"
   ]
  },
  {
   "cell_type": "markdown",
   "metadata": {},
   "source": [
    "## Design\n",
    "\n",
    "Solution approach to this problem is based on first sorting the given input list and then taking the maximum element at every iteration.The first maximum element is used as the first digit of the first number,the next maximum element is used as the first digit of the second number,the next maximum element is used as the second digit of the first number,the next maximum element is used as the second digit of the second number and so on until all the elements of the input_list are used to construct the 2 output numbers\n",
    "\n",
    "## Time Complexity\n",
    "\n",
    "Time complexity of the function `rearrange_digits`mainly involves calculating Time complexity of \n",
    "\n",
    "1. Function `heapify` which is O(nlog(n))\n",
    "2. Extracting max element from the heapified `input_list` and again heapifying the rest of the elements which is equal to log(n-1)+log(n-2)+log(n-3)....+log(1) which is approx = O(n(log(n))\n",
    "\n",
    "Total Time complexity = O(nlog(n))+O(nlog(n)) = O(nlog(n)) which is the time complexity of heap sort\n",
    "\n",
    "## Space complexity\n",
    "\n",
    "Since Heap sort is an inplace sorting and we only need to define some variables to store calculated constant numbers hence it is a constant space operation.In other words, space complexity is O(1)\n",
    "\n"
   ]
  },
  {
   "cell_type": "code",
   "execution_count": null,
   "metadata": {},
   "outputs": [],
   "source": []
  }
 ],
 "metadata": {
  "kernelspec": {
   "display_name": "Python 3",
   "language": "python",
   "name": "python3"
  },
  "language_info": {
   "codemirror_mode": {
    "name": "ipython",
    "version": 3
   },
   "file_extension": ".py",
   "mimetype": "text/x-python",
   "name": "python",
   "nbconvert_exporter": "python",
   "pygments_lexer": "ipython3",
   "version": "3.6.3"
  }
 },
 "nbformat": 4,
 "nbformat_minor": 2
}
