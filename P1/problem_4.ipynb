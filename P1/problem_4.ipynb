{
 "cells": [
  {
   "cell_type": "code",
   "execution_count": 1,
   "metadata": {},
   "outputs": [],
   "source": [
    "## Problem_4 Active Directory"
   ]
  },
  {
   "cell_type": "code",
   "execution_count": 2,
   "metadata": {},
   "outputs": [],
   "source": [
    "class Group(object):\n",
    "    def __init__(self, _name):\n",
    "        self.name = _name\n",
    "        self.groups = []\n",
    "        self.users = []\n",
    "\n",
    "    def add_group(self, group):\n",
    "        self.groups.append(group)\n",
    "\n",
    "    def add_user(self, user):\n",
    "        self.users.append(user)\n",
    "\n",
    "    def get_groups(self):\n",
    "        return self.groups\n",
    "\n",
    "    def get_users(self):\n",
    "        return self.users\n",
    "\n",
    "    def get_name(self):\n",
    "        return self.name\n",
    "\n"
   ]
  },
  {
   "cell_type": "code",
   "execution_count": 3,
   "metadata": {},
   "outputs": [],
   "source": [
    "parent = Group(\"parent\")\n",
    "child = Group(\"child\")\n",
    "subchild1 = Group(\"subchild1\")\n",
    "\n",
    "sub_child_user = \"sub_child1_user1\"\n",
    "subchild1.add_user(sub_child_user)\n",
    "\n",
    "child.add_group(subchild1)\n",
    "parent.add_group(child)"
   ]
  },
  {
   "cell_type": "code",
   "execution_count": 4,
   "metadata": {},
   "outputs": [],
   "source": [
    "parent.add_user('parent_user1')\n",
    "parent.add_user('parent_user2')\n",
    "parent.add_user('sub_child1_user1')\n",
    "child.add_user('child_user1')\n",
    "child.add_user('child_user2')\n",
    "subchild1.add_user('sub_child1_user2')\n",
    "subchild2 = Group('subchild2')\n",
    "child.add_group(subchild2)\n",
    "subchild2.add_user('sub_child2_user1')\n",
    "subchild2.add_user('sub_child2_user2')\n"
   ]
  },
  {
   "cell_type": "code",
   "execution_count": 5,
   "metadata": {},
   "outputs": [],
   "source": [
    "def print_hierarchy(parent,init):\n",
    "   \n",
    "    groups = parent.get_groups()\n",
    "    users = parent.get_users()\n",
    "    print('-'*init,'Group {}:'.format(parent.get_name()))\n",
    "    for user in users:\n",
    "        k=init+4      \n",
    "        print('-'*k,'User:',user)\n",
    "    for group in groups:\n",
    "        print_hierarchy(group,k)\n",
    "    \n"
   ]
  },
  {
   "cell_type": "code",
   "execution_count": 6,
   "metadata": {
    "scrolled": true
   },
   "outputs": [
    {
     "name": "stdout",
     "output_type": "stream",
     "text": [
      " Group parent:\n",
      "---- User: parent_user1\n",
      "---- User: parent_user2\n",
      "---- User: sub_child1_user1\n",
      "---- Group child:\n",
      "-------- User: child_user1\n",
      "-------- User: child_user2\n",
      "-------- Group subchild1:\n",
      "------------ User: sub_child1_user1\n",
      "------------ User: sub_child1_user2\n",
      "-------- Group subchild2:\n",
      "------------ User: sub_child2_user1\n",
      "------------ User: sub_child2_user2\n"
     ]
    }
   ],
   "source": [
    "print_hierarchy(parent,0)"
   ]
  },
  {
   "cell_type": "code",
   "execution_count": 7,
   "metadata": {},
   "outputs": [],
   "source": [
    "def is_user_in_group(user, group):\n",
    "    \"\"\"\n",
    "    Return True if user is in the group, False otherwise.\n",
    "\n",
    "    Args:\n",
    "      user(str): user name/id\n",
    "      group(class:Group): group to check user membership against      \n",
    "    \"\"\"\n",
    "    if user is not None:        \n",
    "        users = group.get_users()\n",
    "        if user in users:\n",
    "            return True\n",
    "        else:\n",
    "            for group in group.get_groups():\n",
    "                if is_user_in_group(user,group):\n",
    "                    return True\n",
    "    return False\n",
    "    \n",
    "    \n"
   ]
  },
  {
   "cell_type": "code",
   "execution_count": 8,
   "metadata": {},
   "outputs": [],
   "source": [
    "def test_function(test_cases):\n",
    "    \n",
    "    for test_case in test_cases:\n",
    "        if is_user_in_group(test_case[0],test_case[1])==test_case[2]:\n",
    "            print('Pass')\n",
    "        else:\n",
    "            print('Fail')\n",
    "    "
   ]
  },
  {
   "cell_type": "code",
   "execution_count": 9,
   "metadata": {},
   "outputs": [],
   "source": [
    "## Test case - 1 checking parent_user1 in parent group\n",
    "\n",
    "test_cases = [ ('parent_user1',parent,True),\n",
    "               ('parent_user1',child,False),\n",
    "               ('sub_child1_user1',subchild1,True),\n",
    "               ('sub_child1_user1',parent,True),\n",
    "               ('sub_child1_user2',parent,True),\n",
    "               ('sub_child1_user1',subchild2,False),\n",
    "               ('child_user1',child,True),\n",
    "               ('child_user2',child,True),\n",
    "               ('child_user1',parent,True),\n",
    "               ('child_user1',subchild1,False),\n",
    "               ('child_user2',subchild2,False),\n",
    "               ('not_existing_user',parent,False),  ##  user which doesn't exists in any group\n",
    "               ('not_existing_user',child,False),   ## user which doesn't exists in any group\n",
    "               ('',parent,False),                   ## Empty user\n",
    "               (None,parent,False) ]                ## Null user\n"
   ]
  },
  {
   "cell_type": "code",
   "execution_count": 10,
   "metadata": {},
   "outputs": [
    {
     "name": "stdout",
     "output_type": "stream",
     "text": [
      "Pass\n",
      "Pass\n",
      "Pass\n",
      "Pass\n",
      "Pass\n",
      "Pass\n",
      "Pass\n",
      "Pass\n",
      "Pass\n",
      "Pass\n",
      "Pass\n",
      "Pass\n",
      "Pass\n",
      "Pass\n",
      "Pass\n"
     ]
    }
   ],
   "source": [
    "test_function(test_cases)"
   ]
  },
  {
   "cell_type": "markdown",
   "metadata": {},
   "source": [
    "## Design\n",
    "\n",
    "1. Check if the given user exists in the given group.if yes, return True else\n",
    "2. Check if the given group has other sub groups.If yes then recursively find the user in the subgroups and if there is a hit then stop searching further subgroups and return True\n",
    "3. if no user is found in all the groups and its subgroups then return False\n",
    "\n",
    "## Time Complexity\n",
    "\n",
    "Let's assume, we have n groups either nested with different permutations or all at a single level and let's assume that each group has m users then in worst case, program searches every user in each group for $n*m$ times hence time complexity = O($n*m$)\n",
    "\n",
    "## Space Complexity\n",
    "\n",
    "In worst case, we are searching for a given user in every users list across all groups but we are not storing any data and only returning True or False as an output hence it is a constant space operation.In other words, space complexity = O(1)\n",
    "\n"
   ]
  }
 ],
 "metadata": {
  "kernelspec": {
   "display_name": "Python 3",
   "language": "python",
   "name": "python3"
  },
  "language_info": {
   "codemirror_mode": {
    "name": "ipython",
    "version": 3
   },
   "file_extension": ".py",
   "mimetype": "text/x-python",
   "name": "python",
   "nbconvert_exporter": "python",
   "pygments_lexer": "ipython3",
   "version": "3.6.3"
  }
 },
 "nbformat": 4,
 "nbformat_minor": 2
}
