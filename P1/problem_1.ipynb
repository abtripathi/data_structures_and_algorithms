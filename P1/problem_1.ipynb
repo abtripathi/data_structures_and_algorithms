{
 "cells": [
  {
   "cell_type": "markdown",
   "metadata": {},
   "source": [
    "###  Problem 1: LRU Cache"
   ]
  },
  {
   "cell_type": "code",
   "execution_count": 1,
   "metadata": {},
   "outputs": [],
   "source": [
    "## import deque from collections module\n",
    "\n",
    "from collections import deque\n",
    "\n",
    "class LRU_Cache:\n",
    "\n",
    "    def __init__(self, capacity):\n",
    "        # Initialize class variables\n",
    "        self._cache = {}               \n",
    "        self._capacity = capacity               \n",
    "        self._q = deque()                 ## instantiate queue to hold recent elements accesses in LRU cache\n",
    "\n",
    "    def get(self, key):\n",
    "        # Retrieve item from provided key. Return -1 if nonexistent.\n",
    "        \n",
    "        if key in self._cache:\n",
    "            self._adjust_entries_in_queue(key)\n",
    "            return self._cache[key]        \n",
    "        return -1\n",
    "        \n",
    "\n",
    "    def set(self, key, value):\n",
    "        # Set the value if the key is not present in the cache. If the cache is at capacity remove the oldest item.\n",
    "        \n",
    "        if key in self._cache:    ## if key already exists,update its value with the new value\n",
    "            self._cache[key] = value\n",
    "            self._adjust_entries_in_queue(key)  # since the key is accessed, adjust entry in queue                   \n",
    "              \n",
    "        elif self.size() < self._capacity:  ## new key and the cache is not full          \n",
    "            self._cache[key]= value         ## add the entry in cache\n",
    "            self._adjust_entries_in_queue(key)    ## adjust the entry in queue        \n",
    "        \n",
    "        elif self.size() == self._capacity: ## new key and the cache is full\n",
    "            element = self._q.pop()         ## evict least recently used element(key) from queue\n",
    "            del self._cache[element]        ## delete corresponding key,value pair from the cache\n",
    "            self._cache[key]= value         ## add a new key,value pair in the cache\n",
    "            self._adjust_entries_in_queue(key) ## adjust entry in queue\n",
    "                       \n",
    "           \n",
    "    def size(self):                      ## returns size of cache\n",
    "        return len(self._cache)\n",
    "    \n",
    "           \n",
    "    def _adjust_entries_in_queue(self,key): ## internal method\n",
    "        \n",
    "        \"\"\"\n",
    "        keeps track of recently used/added keys in a queue\n",
    "        if key already exists it moves the key from its current postion to tail position\n",
    "        if key is added,it goes to the end(tail) of the queue     \n",
    "        \n",
    "        \"\"\"        \n",
    "        if key in self._q:\n",
    "            self._q.remove(key)\n",
    "            self._q.appendleft(key)\n",
    "        else:\n",
    "            self._q.appendleft(key)\n",
    "            \n",
    "        "
   ]
  },
  {
   "cell_type": "markdown",
   "metadata": {},
   "source": [
    "## Design choice\n",
    "\n",
    "Utilized 2 data structures to implement LRU Cache\n",
    "\n",
    "1. Python built in dictionary is used to hold the actual key value pairs(data) also referred in this example as the 'cache'\n",
    "\n",
    "2. A queue is used to keep track of recently accessed / newly added key value pairs.The idea behind using queue is that any time an entry in the cache is accessed either by reading or by modifying or by inserting, that corresponding data entry becomes recent and shouldn't be qualified for next removal, in case cache is full.In other words,newest(latest accessed) cache entry should be the last to be evicted or simply put, data structure used should be LILO (Last in Last Out) and queues are the best data structure for this kind of behavior\n",
    "\n",
    "\n",
    "### Time Complexity\n",
    "\n",
    "#### Time complexity of **get** operation = Time complexity of retrieving from a dictionary + time complexity of adjusting the entry in queue ####\n",
    "\n",
    "Time complexity of retrieving from a dictionary is O(1) for all practical purposes\n",
    "\n",
    "Time complexity of adjusting the entry in queue:\n",
    "\n",
    "    worst case O(n) for removing key, if it is in the middle of the queue and O(1) for adding an entry to the tail = O(n)\n",
    "    average case O(1) for removing a key and O(1) for adding it to the tail of the queue= O(1)\n",
    "    \n",
    "therefore Time complexity of adjusting the entry in queue:  O(n) worst case and O(1) in average case \n",
    "   \n",
    "hence total time complexity of get operation is O(n) in worst case and O(1) in cases where the element is frequently accessed\n",
    "\n",
    "#### Time complexity of **set** operation ####\n",
    "\n",
    "size() calls len method which is of O(1) hence I am going to ignore calls to size() method\n",
    "\n",
    "if key already exists then updating the value takes O(1) and adjusting queue entry takes worst case O(n) and average case O(1) \n",
    "if key doesn't exists then adding a new key,value pair is O(1) and adjusting the queue entry = O(1) since it has to simply add to the tail of the queue so total time is O(1)\n",
    "\n",
    "if the key doesn't exist and the cache is full then it takes O(1) to pop the first(oldest) element from queue, O(1) to delete an existing entry(oldest) from the dictionary, O(1) to add a new entry to the dictionary and O(1) to add the newest entry to the tail of the queue hence total time = O(1)\n",
    "\n",
    "so total time for set operation is O(1) in almost all the cases except for scenario where key already exists in a cache and also  happens to be at the middle of the queue so remove operation can take O(n) in worst case\n",
    "\n",
    "\n",
    "### Space  Complexity\n",
    "\n",
    "since we are using extra data structure \"deque\" to keep track of recently used/added keys and this data structure holds same number of data (keys) as the dictionary data structure hence it has a O(n) space complexity\n",
    "\n",
    "\n",
    "\n"
   ]
  },
  {
   "cell_type": "code",
   "execution_count": 2,
   "metadata": {},
   "outputs": [],
   "source": [
    "## helper function for test cases\n",
    "\n",
    "def check_value(lru_cache,value,solution):\n",
    "    if lru_cache.get(value)==solution:\n",
    "        print('Pass')\n",
    "    else:\n",
    "        print('Fail')\n"
   ]
  },
  {
   "cell_type": "code",
   "execution_count": 3,
   "metadata": {},
   "outputs": [
    {
     "name": "stdout",
     "output_type": "stream",
     "text": [
      "Pass\n",
      "Pass\n",
      "Pass\n",
      "Pass\n"
     ]
    }
   ],
   "source": [
    "## Test case 1\n",
    "\n",
    "our_cache = LRU_Cache(5)\n",
    "\n",
    "our_cache.set(1, 1);\n",
    "our_cache.set(2, 2);\n",
    "our_cache.set(3, 3);\n",
    "our_cache.set(4, 4);\n",
    "\n",
    "\n",
    "check_value(our_cache,1,1)       # returns 1\n",
    "check_value(our_cache,2,2)      # returns 2\n",
    "check_value(our_cache,9,-1)      # returns -1 because 9 is not present in the cache\n",
    "\n",
    "our_cache.set(5, 5) \n",
    "our_cache.set(6, 6)\n",
    "\n",
    "check_value(our_cache,3,-1)  # returns -1 because the cache reached it's capacity and 3 was the least recently used entry\n"
   ]
  },
  {
   "cell_type": "code",
   "execution_count": 4,
   "metadata": {},
   "outputs": [
    {
     "name": "stdout",
     "output_type": "stream",
     "text": [
      "Pass\n",
      "Pass\n",
      "Pass\n",
      "Pass\n",
      "Pass\n"
     ]
    }
   ],
   "source": [
    "## Test case 2\n",
    "\n",
    "our_cache = LRU_Cache(5)\n",
    "\n",
    "our_cache.set(1, 1);\n",
    "our_cache.set(2, 2);\n",
    "our_cache.set(3, 3);\n",
    "our_cache.set(4, 4);\n",
    "our_cache.set(5, 5);\n",
    "\n",
    "check_value(our_cache,2,2) \n",
    "our_cache.set(5, 10);\n",
    "check_value(our_cache,5,10)\n",
    "check_value(our_cache,1,1) \n",
    "\n",
    "our_cache.set(6,6)\n",
    "check_value(our_cache,3,-1) \n",
    "check_value(our_cache,4,4) \n"
   ]
  },
  {
   "cell_type": "code",
   "execution_count": 5,
   "metadata": {},
   "outputs": [
    {
     "name": "stdout",
     "output_type": "stream",
     "text": [
      "Pass\n",
      "Pass\n"
     ]
    }
   ],
   "source": [
    "## Test case 3\n",
    "\n",
    "our_cache = LRU_Cache(5)\n",
    "\n",
    "our_cache.set(None,1);\n",
    "check_value(our_cache,None,1)\n",
    "our_cache.set(None,2);\n",
    "check_value(our_cache,None,2)\n",
    "\n"
   ]
  },
  {
   "cell_type": "code",
   "execution_count": 6,
   "metadata": {},
   "outputs": [
    {
     "name": "stdout",
     "output_type": "stream",
     "text": [
      "Pass\n",
      "Pass\n",
      "Pass\n"
     ]
    }
   ],
   "source": [
    "## Test case 4 \n",
    "\n",
    "our_cache = LRU_Cache(5)\n",
    "our_cache.set(1, '1')\n",
    "our_cache.set(2, '2')\n",
    "our_cache.set(3, '3')\n",
    "check_value(our_cache,3,'3')\n",
    "our_cache.set(10,'10')\n",
    "our_cache.set(11, '11')\n",
    "check_value(our_cache,2,'2')\n",
    "our_cache.set(12, '12')\n",
    "check_value(our_cache,1,-1)\n",
    "\n"
   ]
  },
  {
   "cell_type": "code",
   "execution_count": 7,
   "metadata": {},
   "outputs": [
    {
     "name": "stdout",
     "output_type": "stream",
     "text": [
      "Pass\n",
      "Pass\n",
      "Pass\n",
      "Pass\n",
      "Pass\n",
      "Pass\n",
      "Pass\n",
      "Pass\n",
      "Pass\n",
      "Pass\n",
      "Pass\n"
     ]
    }
   ],
   "source": [
    "## Test case 5  getting same value again and again\n",
    "\n",
    "our_cache = LRU_Cache(5)\n",
    "our_cache.set(1, '1')\n",
    "our_cache.set(2, '2')\n",
    "our_cache.set(3, '3')\n",
    "check_value(our_cache,3,'3')\n",
    "check_value(our_cache,3,'3')\n",
    "check_value(our_cache,3,'3')\n",
    "check_value(our_cache,3,'3')\n",
    "our_cache.set(4, '4')\n",
    "our_cache.set(5, '5')\n",
    "check_value(our_cache,1,'1')\n",
    "check_value(our_cache,1,'1')\n",
    "check_value(our_cache,1,'1')\n",
    "check_value(our_cache,1,'1')\n",
    "our_cache.set(6,'6')\n",
    "check_value(our_cache,2,-1)\n",
    "check_value(our_cache,2,-1)\n",
    "check_value(our_cache,2,-1)"
   ]
  },
  {
   "cell_type": "code",
   "execution_count": 8,
   "metadata": {},
   "outputs": [
    {
     "name": "stdout",
     "output_type": "stream",
     "text": [
      "Pass\n",
      "Pass\n"
     ]
    }
   ],
   "source": [
    "## Test case 6  getting invalid values \n",
    "\n",
    "our_cache = LRU_Cache(5)\n",
    "our_cache.set(1, '1')\n",
    "our_cache.set(2, '2')\n",
    "our_cache.set(3, '3')\n",
    "check_value(our_cache,6,-1)\n",
    "check_value(our_cache,5,-1)"
   ]
  },
  {
   "cell_type": "code",
   "execution_count": 9,
   "metadata": {},
   "outputs": [
    {
     "name": "stdout",
     "output_type": "stream",
     "text": [
      "Pass\n",
      "Pass\n",
      "Pass\n"
     ]
    }
   ],
   "source": [
    "## Test case 7  getting Null values , negative \n",
    "\n",
    "our_cache = LRU_Cache(5)\n",
    "our_cache.set(1, None)  ## Null\n",
    "check_value(our_cache,1,None)\n",
    "our_cache.set(2,'-2') ## Negative value\n",
    "check_value(our_cache,2,'-2')\n",
    "our_cache.set(-3,'3') ## Negative Key\n",
    "check_value(our_cache,-3,'3')\n"
   ]
  },
  {
   "cell_type": "code",
   "execution_count": 10,
   "metadata": {},
   "outputs": [
    {
     "name": "stdout",
     "output_type": "stream",
     "text": [
      "Pass\n",
      "Pass\n"
     ]
    }
   ],
   "source": [
    "## Test case-8 over capacity\n",
    "\n",
    "our_cache = LRU_Cache(5)\n",
    "our_cache.set(1, '1')\n",
    "our_cache.set(2, '2')\n",
    "our_cache.set(3, '3')\n",
    "our_cache.set(4, '4')\n",
    "our_cache.set(5, '5')\n",
    "our_cache.set(6, '6')\n",
    "\n",
    "check_value(our_cache,2,'2')\n",
    "check_value(our_cache,1,-1)\n"
   ]
  }
 ],
 "metadata": {
  "kernelspec": {
   "display_name": "Python 3",
   "language": "python",
   "name": "python3"
  },
  "language_info": {
   "codemirror_mode": {
    "name": "ipython",
    "version": 3
   },
   "file_extension": ".py",
   "mimetype": "text/x-python",
   "name": "python",
   "nbconvert_exporter": "python",
   "pygments_lexer": "ipython3",
   "version": "3.6.3"
  }
 },
 "nbformat": 4,
 "nbformat_minor": 2
}
