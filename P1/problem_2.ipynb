{
 "cells": [
  {
   "cell_type": "code",
   "execution_count": 1,
   "metadata": {},
   "outputs": [],
   "source": [
    "## import os module\n",
    "import os"
   ]
  },
  {
   "cell_type": "code",
   "execution_count": 2,
   "metadata": {},
   "outputs": [],
   "source": [
    "\n",
    "def find_files(suffix, path):\n",
    "    \"\"\"\n",
    "    Find all files beneath path with file name suffix.\n",
    "\n",
    "    Note that a path may contain further subdirectories\n",
    "    and those subdirectories may also contain further subdirectories.\n",
    "\n",
    "    There are no limit to the depth of the subdirectories can be.\n",
    "\n",
    "    Args:\n",
    "      suffix(str): suffix of the file name to be found\n",
    "      path(str): path of the file system\n",
    "\n",
    "    Returns:\n",
    "       a list of paths\n",
    "    \"\"\"\n",
    "    filenames=[]\n",
    "    if os.path.exists(path): ## check whether path exists\n",
    "        for item in os.listdir(path):    ## scan current path    \n",
    "            if os.path.isdir(os.path.join(path,item)):  ## if the item in the current path is a dir, recursively call find_fles   \n",
    "                filenames.extend(find_files(suffix,os.path.join(path,item))) ## add items from recursive call \n",
    "            ## check if an item is a file which ends with a given suffix    \n",
    "            elif os.path.isfile(os.path.join(path,item)) and os.path.join(path,item).endswith(suffix):                         \n",
    "                    filenames.append(os.path.join(path,item))  \n",
    "                \n",
    "        return filenames\n",
    "    return \"Path doesn't exist\""
   ]
  },
  {
   "cell_type": "code",
   "execution_count": 3,
   "metadata": {},
   "outputs": [],
   "source": [
    "## function to test the cases\n",
    "\n",
    "def test_case(suffix,path,solution):\n",
    "    if find_files(suffix,path)==solution:\n",
    "        print('Pass')\n",
    "    else:\n",
    "        print('Fail')"
   ]
  },
  {
   "cell_type": "code",
   "execution_count": 4,
   "metadata": {},
   "outputs": [
    {
     "name": "stdout",
     "output_type": "stream",
     "text": [
      "Pass\n"
     ]
    }
   ],
   "source": [
    "## test case -1,providing relative path\n",
    "\n",
    "solution = ['./testdir/t1.c',\n",
    " './testdir/subdir1/a.c',\n",
    " './testdir/subdir3/subsubdir1/b.c',\n",
    " './testdir/subdir5/a.c']\n",
    "\n",
    "test_case('.c','.',solution)"
   ]
  },
  {
   "cell_type": "code",
   "execution_count": 5,
   "metadata": {},
   "outputs": [
    {
     "name": "stdout",
     "output_type": "stream",
     "text": [
      "Pass\n"
     ]
    }
   ],
   "source": [
    "## test case -2,providing relative path\n",
    "\n",
    "solution = ['./testdir/subdir1/a.h',\n",
    " './testdir/subdir3/subsubdir1/b.h',\n",
    " './testdir/t1.h',\n",
    " './testdir/subdir5/a.h']\n",
    "\n",
    "test_case('.h','.',solution)"
   ]
  },
  {
   "cell_type": "code",
   "execution_count": 6,
   "metadata": {},
   "outputs": [
    {
     "name": "stdout",
     "output_type": "stream",
     "text": [
      "Pass\n"
     ]
    }
   ],
   "source": [
    "## test case -3, providing absolute path\n",
    "\n",
    "solution = ['/home/workspace/data_structures_and_algorithms/P0/Task2.py',\n",
    " '/home/workspace/data_structures_and_algorithms/P0/Task3.py',\n",
    " '/home/workspace/data_structures_and_algorithms/P0/Task1.py',\n",
    " '/home/workspace/data_structures_and_algorithms/P0/Task0.py',\n",
    " '/home/workspace/data_structures_and_algorithms/P0/Task4.py']\n",
    "\n",
    "test_case('.py','/home/',solution)"
   ]
  },
  {
   "cell_type": "code",
   "execution_count": 7,
   "metadata": {},
   "outputs": [
    {
     "name": "stdout",
     "output_type": "stream",
     "text": [
      "Pass\n"
     ]
    }
   ],
   "source": [
    "## test case -4 , providing relative path\n",
    "\n",
    "solution = ['../../data_structures_and_algorithms/P0/Task2.py',\n",
    " '../../data_structures_and_algorithms/P0/Task3.py',\n",
    " '../../data_structures_and_algorithms/P0/Task1.py',\n",
    " '../../data_structures_and_algorithms/P0/Task0.py',\n",
    " '../../data_structures_and_algorithms/P0/Task4.py']\n",
    "\n",
    "test_case('.py','../..',solution)"
   ]
  },
  {
   "cell_type": "code",
   "execution_count": 8,
   "metadata": {},
   "outputs": [
    {
     "name": "stdout",
     "output_type": "stream",
     "text": [
      "Pass\n"
     ]
    }
   ],
   "source": [
    "## test case -5, providing relative path\n",
    "\n",
    "solution = ['./testdir/subdir4/.gitkeep', './testdir/subdir2/.gitkeep']\n",
    "\n",
    "test_case('.gitkeep','.',solution)"
   ]
  },
  {
   "cell_type": "code",
   "execution_count": 9,
   "metadata": {},
   "outputs": [
    {
     "name": "stdout",
     "output_type": "stream",
     "text": [
      "Pass\n"
     ]
    }
   ],
   "source": [
    "## test case -6, providing invalid path\n",
    "\n",
    "solution = \"Path doesn't exist\"\n",
    "\n",
    "test_case('.txt','./.zip',solution)"
   ]
  },
  {
   "cell_type": "markdown",
   "metadata": {},
   "source": [
    "## Design choice:\n",
    "\n",
    "The goal is to write code for finding all files under a directory (and all directories beneath it) hence it is natural to design  a recursive function call which can be called again and again, when the program during its execution hits a directory instead of a file.\n",
    "\n",
    "### Time Complexity\n",
    "\n",
    "Assuming supplied path has only **n** files and no directories then the function will have to go over these n files to find out the correct match.Further assuming that __os.path.isfile__ and __os.path.isdir__ are a constant time operation hence total time taken will be O(n)\n",
    "\n",
    "Now lets assume that we have __n__ directories all at a single level or some nested or all nested and each of these directory has **m** files then total no of items to be recursively scanned will be $n*m$ so time complexity is O($m*n$) but $n*m = N$ which is the total number of items hence time complexity = O(N) or linear time\n",
    "\n",
    "### Space complexity \n",
    "\n",
    "It is equal to the the depth of the recursion or in other words equal to the number of nested sub directories we have in the provided path,so assuming the recursion depth = number of nested sub directories = d then the Space complexity is O(d)\n",
    "\n",
    "\n",
    "\n",
    "\n",
    "\n",
    "\n",
    "\n",
    "\n"
   ]
  }
 ],
 "metadata": {
  "kernelspec": {
   "display_name": "Python 3",
   "language": "python",
   "name": "python3"
  },
  "language_info": {
   "codemirror_mode": {
    "name": "ipython",
    "version": 3
   },
   "file_extension": ".py",
   "mimetype": "text/x-python",
   "name": "python",
   "nbconvert_exporter": "python",
   "pygments_lexer": "ipython3",
   "version": "3.6.3"
  }
 },
 "nbformat": 4,
 "nbformat_minor": 2
}
