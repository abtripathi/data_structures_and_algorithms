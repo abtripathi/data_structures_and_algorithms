{
 "cells": [
  {
   "cell_type": "code",
   "execution_count": 1,
   "metadata": {},
   "outputs": [],
   "source": [
    "## problem-5 Blockchain"
   ]
  },
  {
   "cell_type": "code",
   "execution_count": 2,
   "metadata": {},
   "outputs": [],
   "source": [
    "import hashlib\n",
    "\n",
    "class Block:\n",
    "    \n",
    "    def __init__(self, timestamp, data, previous_hash):\n",
    "        self.timestamp = timestamp\n",
    "        self.data = data\n",
    "        self.previous_hash = previous_hash\n",
    "        self.hash = self.calc_hash(self.data)\n",
    "        \n",
    "    def calc_hash(self,data):\n",
    "        sha = hashlib.sha256()\n",
    "        sha.update(data.encode('utf-8'))\n",
    "        return sha.hexdigest()\n",
    "    \n",
    "    def get_hash(self):\n",
    "        return self.hash\n",
    "    \n",
    "    def get_previous_hash(self):\n",
    "        return self.previous_hash\n",
    "    \n",
    "    def get_data(self):\n",
    "        return self.data\n",
    "    \n",
    "    def get_timestamp(self):\n",
    "        return self.timestamp\n",
    "    \n",
    "    \n",
    "    def __str__(self):\n",
    "        fmt = '%Y-%m-%d %H:%M:%S.%f %Z%z'\n",
    "        s= 'Block(\\n Timestamp:{}\\n Data:{}\\n SHA256_hash:{}\\n Prev_hash:{} )'\\\n",
    "        .format(self.get_timestamp().strftime(fmt),self.get_data(),self.get_hash(),self.get_previous_hash())\n",
    "        return s\n",
    "        \n",
    "    def __repr__(self):\n",
    "        fmt = '%Y-%m-%d %H:%M:%S.%f %Z%z'\n",
    "        s= 'Block(\\n Timestamp:{}\\n Data:{}\\n SHA256_hash:{}\\n Prev_hash:{} )'\\\n",
    "        .format(self.get_timestamp().strftime(fmt),self.get_data(),self.get_hash(),self.get_previous_hash())\n",
    "        return s  \n",
    "        \n",
    "        "
   ]
  },
  {
   "cell_type": "code",
   "execution_count": 3,
   "metadata": {},
   "outputs": [],
   "source": [
    "import pytz\n",
    "from datetime import datetime,timezone\n",
    "\n",
    "class BlockChain:\n",
    "    \n",
    "    def __init__(self):\n",
    "        \n",
    "        self.tail = None\n",
    "        self._blocks_dict = dict()\n",
    "        \n",
    "    def append(self,data):        \n",
    "                \n",
    "        if self.tail is None:\n",
    "            self.tail = Block(self.__create_timestamp(),data,0)                        \n",
    "        else:\n",
    "            self.tail = Block(self.__create_timestamp(),data,previous_hash=self.tail.get_hash())\n",
    "            \n",
    "        self._blocks_dict[self.tail.get_hash()]=self.tail\n",
    "            \n",
    "        \n",
    "    def __iter__(self): \n",
    "        \n",
    "        tail = self.tail        \n",
    "        while tail.get_previous_hash() !=0:\n",
    "            yield tail\n",
    "            tail = self._get_block_using_hash(tail.get_previous_hash())\n",
    "            \n",
    "        yield tail\n",
    "        \n",
    "    def __create_timestamp(self):\n",
    "        \n",
    "        gmtz= pytz.timezone('GMT') \n",
    "        return datetime.now(tz=gmtz)\n",
    "        \n",
    "            \n",
    "    def _get_block_using_hash(self,hash_):\n",
    "        \n",
    "        return self._blocks_dict[hash_]\n",
    "    \n",
    "    def size(self):\n",
    "        return len(self._blocks_dict)\n",
    "    \n",
    "    def to_list(self):\n",
    "        return [i for i in self][::-1]\n",
    "    \n",
    "    def __repr__(self):\n",
    "         return '\\n\\n'.join([str(i) for i in self][::-1])\n",
    "        \n",
    "        "
   ]
  },
  {
   "cell_type": "code",
   "execution_count": 4,
   "metadata": {},
   "outputs": [
    {
     "name": "stdout",
     "output_type": "stream",
     "text": [
      "Test Results\n",
      "\n",
      "Block(\n",
      " Timestamp:2021-04-25 01:50:08.222372 GMT+0000\n",
      " Data:This is first transaction\n",
      " SHA256_hash:e71ef9b54f033b82e7b1ec86f3b09f7acba97dcee4100dec1d15f14bda19e07e\n",
      " Prev_hash:0 )\n",
      "\n",
      "Block(\n",
      " Timestamp:2021-04-25 01:50:10.224877 GMT+0000\n",
      " Data:This is second transaction\n",
      " SHA256_hash:ee9222bc2a07eeb42d86731869d92eca8d68f9725a67e198dfab074b77557abd\n",
      " Prev_hash:e71ef9b54f033b82e7b1ec86f3b09f7acba97dcee4100dec1d15f14bda19e07e )\n",
      "\n",
      "Block(\n",
      " Timestamp:2021-04-25 01:50:12.227356 GMT+0000\n",
      " Data:This is third transaction\n",
      " SHA256_hash:7a1a2a4b9742f9ea737cbeb18c2d604a2da7e4ed63344ff115c0357cc20bea40\n",
      " Prev_hash:ee9222bc2a07eeb42d86731869d92eca8d68f9725a67e198dfab074b77557abd )\n"
     ]
    }
   ],
   "source": [
    "# Testcase -1\n",
    "\n",
    "import time\n",
    "\n",
    "blockchain = BlockChain()\n",
    "blockchain.append('This is first transaction')\n",
    "time.sleep(2)\n",
    "blockchain.append('This is second transaction')\n",
    "time.sleep(2)\n",
    "blockchain.append('This is third transaction')\n",
    "print(\"Test Results\\n\")\n",
    "print(blockchain)\n",
    "\n"
   ]
  },
  {
   "cell_type": "code",
   "execution_count": 5,
   "metadata": {},
   "outputs": [
    {
     "name": "stdout",
     "output_type": "stream",
     "text": [
      "Test Results\n",
      "\n",
      "Block(\n",
      " Timestamp:2021-04-25 01:50:12.238402 GMT+0000\n",
      " Data:This is first transaction\n",
      " SHA256_hash:e71ef9b54f033b82e7b1ec86f3b09f7acba97dcee4100dec1d15f14bda19e07e\n",
      " Prev_hash:0 )\n",
      "\n",
      "Block(\n",
      " Timestamp:2021-04-25 01:50:14.241323 GMT+0000\n",
      " Data:This is second transaction\n",
      " SHA256_hash:ee9222bc2a07eeb42d86731869d92eca8d68f9725a67e198dfab074b77557abd\n",
      " Prev_hash:e71ef9b54f033b82e7b1ec86f3b09f7acba97dcee4100dec1d15f14bda19e07e )\n",
      "\n",
      "Block(\n",
      " Timestamp:2021-04-25 01:50:16.243781 GMT+0000\n",
      " Data:This is third transaction\n",
      " SHA256_hash:7a1a2a4b9742f9ea737cbeb18c2d604a2da7e4ed63344ff115c0357cc20bea40\n",
      " Prev_hash:ee9222bc2a07eeb42d86731869d92eca8d68f9725a67e198dfab074b77557abd )\n",
      "\n",
      "Block(\n",
      " Timestamp:2021-04-25 01:50:16.243888 GMT+0000\n",
      " Data:\n",
      " SHA256_hash:e3b0c44298fc1c149afbf4c8996fb92427ae41e4649b934ca495991b7852b855\n",
      " Prev_hash:7a1a2a4b9742f9ea737cbeb18c2d604a2da7e4ed63344ff115c0357cc20bea40 )\n"
     ]
    }
   ],
   "source": [
    "# Testcase -2 \n",
    "\n",
    "import time\n",
    "\n",
    "blockchain = BlockChain()\n",
    "blockchain.append('This is first transaction')\n",
    "time.sleep(2)\n",
    "blockchain.append('This is second transaction')\n",
    "time.sleep(2)\n",
    "blockchain.append('This is third transaction')\n",
    "blockchain.append('') ## added empty data but transaction is still recorded with sha calculated for empty data\n",
    "print(\"Test Results\\n\") \n",
    "print(blockchain)"
   ]
  },
  {
   "cell_type": "code",
   "execution_count": 6,
   "metadata": {},
   "outputs": [
    {
     "name": "stdout",
     "output_type": "stream",
     "text": [
      "Test Results\n",
      "\n",
      "Block(\n",
      " Timestamp:2021-04-25 01:50:16.253843 GMT+0000\n",
      " Data:This is first transaction\n",
      " SHA256_hash:e71ef9b54f033b82e7b1ec86f3b09f7acba97dcee4100dec1d15f14bda19e07e\n",
      " Prev_hash:0 )\n",
      "\n",
      "Block(\n",
      " Timestamp:2021-04-25 01:50:16.253929 GMT+0000\n",
      " Data:This is second transaction\n",
      " SHA256_hash:ee9222bc2a07eeb42d86731869d92eca8d68f9725a67e198dfab074b77557abd\n",
      " Prev_hash:e71ef9b54f033b82e7b1ec86f3b09f7acba97dcee4100dec1d15f14bda19e07e )\n"
     ]
    }
   ],
   "source": [
    "# Testcase -3 \n",
    "# no wait time between 2 transactions but the results shows that the timestamp of 2 transactions recorded is different\n",
    "# at micro seconds level\n",
    "\n",
    "blockchain = BlockChain()\n",
    "blockchain.append('This is first transaction')\n",
    "blockchain.append('This is second transaction')\n",
    "print(\"Test Results\\n\") \n",
    "print(blockchain)\n"
   ]
  },
  {
   "cell_type": "code",
   "execution_count": 7,
   "metadata": {},
   "outputs": [
    {
     "name": "stdout",
     "output_type": "stream",
     "text": [
      "[Block(\n",
      " Timestamp:2021-04-25 01:50:16.265743 GMT+0000\n",
      " Data:This is first transaction\n",
      " SHA256_hash:e71ef9b54f033b82e7b1ec86f3b09f7acba97dcee4100dec1d15f14bda19e07e\n",
      " Prev_hash:0 ), Block(\n",
      " Timestamp:2021-04-25 01:50:16.265804 GMT+0000\n",
      " Data:This is second transaction\n",
      " SHA256_hash:ee9222bc2a07eeb42d86731869d92eca8d68f9725a67e198dfab074b77557abd\n",
      " Prev_hash:e71ef9b54f033b82e7b1ec86f3b09f7acba97dcee4100dec1d15f14bda19e07e ), Block(\n",
      " Timestamp:2021-04-25 01:50:16.265849 GMT+0000\n",
      " Data:This is third transaction\n",
      " SHA256_hash:7a1a2a4b9742f9ea737cbeb18c2d604a2da7e4ed63344ff115c0357cc20bea40\n",
      " Prev_hash:ee9222bc2a07eeb42d86731869d92eca8d68f9725a67e198dfab074b77557abd )]\n"
     ]
    }
   ],
   "source": [
    "## Test case - 4 ## printing transactions,using defined to_list() method earliest first\n",
    "\n",
    "blockchain = BlockChain()\n",
    "blockchain.append('This is first transaction')\n",
    "blockchain.append('This is second transaction')\n",
    "blockchain.append('This is third transaction')\n",
    "print(blockchain.to_list())\n"
   ]
  },
  {
   "cell_type": "code",
   "execution_count": 8,
   "metadata": {},
   "outputs": [
    {
     "name": "stdout",
     "output_type": "stream",
     "text": [
      "[Block(\n",
      " Timestamp:2021-04-25 01:50:16.279218 GMT+0000\n",
      " Data:This is third transaction\n",
      " SHA256_hash:7a1a2a4b9742f9ea737cbeb18c2d604a2da7e4ed63344ff115c0357cc20bea40\n",
      " Prev_hash:ee9222bc2a07eeb42d86731869d92eca8d68f9725a67e198dfab074b77557abd ), Block(\n",
      " Timestamp:2021-04-25 01:50:16.279172 GMT+0000\n",
      " Data:This is second transaction\n",
      " SHA256_hash:ee9222bc2a07eeb42d86731869d92eca8d68f9725a67e198dfab074b77557abd\n",
      " Prev_hash:e71ef9b54f033b82e7b1ec86f3b09f7acba97dcee4100dec1d15f14bda19e07e ), Block(\n",
      " Timestamp:2021-04-25 01:50:16.279087 GMT+0000\n",
      " Data:This is first transaction\n",
      " SHA256_hash:e71ef9b54f033b82e7b1ec86f3b09f7acba97dcee4100dec1d15f14bda19e07e\n",
      " Prev_hash:0 )]\n"
     ]
    }
   ],
   "source": [
    "## Test case - 4 printing transaction summary, latest first using iterator\n",
    "\n",
    "blockchain = BlockChain()\n",
    "blockchain.append('This is first transaction')\n",
    "blockchain.append('This is second transaction')\n",
    "blockchain.append('This is third transaction')\n",
    "print(list(blockchain))"
   ]
  },
  {
   "cell_type": "markdown",
   "metadata": {},
   "source": [
    "## Design\n",
    "\n",
    "1. Defined a class BlockChain which contains Blocks where each block contains its own SHA as well as SHA of its previous block\n",
    "2. BlockChain is defined in such a way that the latest transaction is always appended at the last or in other words with every transaction , tail is shifting towards right\n",
    "3. Defined an iterator which gives the latest transaction first\n",
    "4. Defined to_list method which gives the list of transactions recorded from oldest to latest\n",
    "5. Consumers of the Blockchain class don't have to provide timestamp,that gets auto calculated during appending a data related to the block in a blockchain\n",
    "6. Internal dictionary is maintained which keeps track of SHA and its corresponding block in terms of key value pairs respectively.This internal dictionary helps in traversing the blockchain starting from tail(latest) to the oldest transaction as well as also gives the size of the blockchain Object\n",
    "\n",
    "## Time Complexity\n",
    "\n",
    "Adding a new block in a block chain is a constant time operation as we are always adding at the end of the tail and we always keep a reference to the tail so Insertion is O(1)\n",
    "\n",
    "Traversing a Blockchain from latest to oldest takes O(n) linear time\n",
    "\n",
    "Giving a list sorted in the form of timestamp(oldest first) takes additional O(n) traversal and hence total time complexity is O(n) + O(n) = O(n)\n",
    "\n",
    "## Space Complexity\n",
    "\n",
    "Insertion is a O(1) space complexity\n",
    "\n",
    "Traversal requires additional O(n) space to store the SHA and its block reference in the form of dictionary hence is a O(n) space complexity\n",
    "\n",
    "to_list() also requires O(n) space complexity to store the SHA and its block reference in the form of dictionary which helps in traversing the blockchain and then takes additional O(n) space to sort them in the oldest first way hence total space complexity = O(n)+O(n) = O(2n)\n",
    "\n"
   ]
  },
  {
   "cell_type": "code",
   "execution_count": null,
   "metadata": {},
   "outputs": [],
   "source": []
  }
 ],
 "metadata": {
  "kernelspec": {
   "display_name": "Python 3",
   "language": "python",
   "name": "python3"
  },
  "language_info": {
   "codemirror_mode": {
    "name": "ipython",
    "version": 3
   },
   "file_extension": ".py",
   "mimetype": "text/x-python",
   "name": "python",
   "nbconvert_exporter": "python",
   "pygments_lexer": "ipython3",
   "version": "3.6.3"
  }
 },
 "nbformat": 4,
 "nbformat_minor": 2
}
